{
 "cells": [
  {
   "cell_type": "markdown",
   "id": "e88a82b9-e209-462e-8fa5-19c7a5234b4b",
   "metadata": {},
   "source": [
    "## Control flow/Decession Making Statement/Conditional loops"
   ]
  },
  {
   "cell_type": "markdown",
   "id": "8c405872-f240-43eb-b26a-212e955a3872",
   "metadata": {},
   "source": [
    "# if elif else"
   ]
  },
  {
   "cell_type": "code",
   "execution_count": 7,
   "id": "981f5728-dd71-4f06-921b-ac271f9641e7",
   "metadata": {},
   "outputs": [
    {
     "name": "stdin",
     "output_type": "stream",
     "text": [
      " Enter your marks :  774\n"
     ]
    },
    {
     "name": "stdout",
     "output_type": "stream",
     "text": [
      "you are not in any batch\n"
     ]
    }
   ],
   "source": [
    "marks=int(input(\" Enter your marks : \"))\n",
    "if marks>=80 and marks<=100:\n",
    "    print(\"You are eligible for this batch A\")\n",
    "elif marks>=60 and marks<=80:\n",
    "    print('You are in batch B')\n",
    "elif marks>=40 and marks<=60:\n",
    "    print('you are in batch c')\n",
    "else:\n",
    "    print(\"you are not in any batch\")"
   ]
  },
  {
   "cell_type": "code",
   "execution_count": 20,
   "id": "ffd7ce0b-f6ba-4bc5-b650-31faa1e71f5c",
   "metadata": {},
   "outputs": [],
   "source": [
    "l=[11,21,31,41,51,61,71,81,91]"
   ]
  },
  {
   "cell_type": "code",
   "execution_count": 25,
   "id": "6c0220a4-1e11-4ac3-b674-6e16e09fe34d",
   "metadata": {},
   "outputs": [
    {
     "name": "stdout",
     "output_type": "stream",
     "text": [
      "12\n",
      "22\n",
      "32\n",
      "42\n",
      "52\n",
      "62\n",
      "72\n",
      "82\n",
      "92\n",
      "[12, 22, 32, 42, 52, 62, 72, 82, 92]\n"
     ]
    }
   ],
   "source": [
    "l1=[]\n",
    "for i in l:\n",
    "    print(i+1)\n",
    "    l1.append(i+1)\n",
    "print(l1)\n",
    "    "
   ]
  },
  {
   "cell_type": "code",
   "execution_count": 44,
   "id": "40244072-2588-4c08-99c9-48a9ff8393ca",
   "metadata": {},
   "outputs": [],
   "source": [
    "l=[1,2,3,4,5,6,\"kumer\",'sdsos',87,937,\"jkl\"]"
   ]
  },
  {
   "cell_type": "code",
   "execution_count": 48,
   "id": "99b2feac-c672-4723-976b-3721e44884ce",
   "metadata": {},
   "outputs": [
    {
     "name": "stdout",
     "output_type": "stream",
     "text": [
      "[1, 2, 3, 4, 5, 6, 87, 937]\n",
      "['kumer', 'sdsos', 'jkl']\n"
     ]
    }
   ],
   "source": [
    "l1_num=[]\n",
    "l2_str=[]\n",
    "\n",
    "for i in l:\n",
    "    if type(i)==int or type(i)==float:\n",
    "        l1_num.append(i)\n",
    "    if type(i)==str:\n",
    "        l2_str.append(i)    \n",
    "print(l1_num)\n",
    "print(l2_str)\n",
    "        "
   ]
  },
  {
   "cell_type": "code",
   "execution_count": 50,
   "id": "fa1e780d-60f0-46cf-a022-32f6913d8162",
   "metadata": {},
   "outputs": [
    {
     "data": {
      "text/plain": [
       "False"
      ]
     },
     "execution_count": 50,
     "metadata": {},
     "output_type": "execute_result"
    }
   ],
   "source": [
    "type(l[0])==str"
   ]
  },
  {
   "cell_type": "code",
   "execution_count": null,
   "id": "df94ffe1-0718-4c87-860a-407e886b6dae",
   "metadata": {},
   "outputs": [],
   "source": []
  },
  {
   "cell_type": "code",
   "execution_count": null,
   "id": "4a7e16b8-044d-4466-a2cf-b382838de900",
   "metadata": {},
   "outputs": [],
   "source": []
  },
  {
   "cell_type": "code",
   "execution_count": null,
   "id": "cb599307-89b7-488b-8878-2ea718978503",
   "metadata": {},
   "outputs": [],
   "source": []
  },
  {
   "cell_type": "code",
   "execution_count": null,
   "id": "c4f2177d-76a7-49b7-9c30-691f4f1e8ae2",
   "metadata": {},
   "outputs": [],
   "source": []
  },
  {
   "cell_type": "code",
   "execution_count": null,
   "id": "87a0dfc4-6847-4bc4-9f82-d6c3c9f04798",
   "metadata": {},
   "outputs": [],
   "source": []
  },
  {
   "cell_type": "code",
   "execution_count": null,
   "id": "8c256a86-fd41-4d31-a34f-e3a44d52b183",
   "metadata": {},
   "outputs": [],
   "source": []
  },
  {
   "cell_type": "code",
   "execution_count": null,
   "id": "376c247a-2d11-4203-8a3e-72f5823c3770",
   "metadata": {},
   "outputs": [],
   "source": []
  },
  {
   "cell_type": "code",
   "execution_count": null,
   "id": "2bc3c8b6-fac5-4159-9882-c7165da448dc",
   "metadata": {},
   "outputs": [],
   "source": []
  },
  {
   "cell_type": "code",
   "execution_count": null,
   "id": "9b2582b5-88dc-431c-a0ac-a19d8f8db079",
   "metadata": {},
   "outputs": [],
   "source": []
  }
 ],
 "metadata": {
  "kernelspec": {
   "display_name": "Python 3 (ipykernel)",
   "language": "python",
   "name": "python3"
  },
  "language_info": {
   "codemirror_mode": {
    "name": "ipython",
    "version": 3
   },
   "file_extension": ".py",
   "mimetype": "text/x-python",
   "name": "python",
   "nbconvert_exporter": "python",
   "pygments_lexer": "ipython3",
   "version": "3.13.0"
  }
 },
 "nbformat": 4,
 "nbformat_minor": 5
}
