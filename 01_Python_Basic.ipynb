{
 "cells": [
  {
   "cell_type": "code",
   "execution_count": 1,
   "id": "2f5139a1-5234-4e3e-9ee8-adf0b3d8e918",
   "metadata": {},
   "outputs": [
    {
     "data": {
      "text/plain": [
       "4"
      ]
     },
     "execution_count": 1,
     "metadata": {},
     "output_type": "execute_result"
    }
   ],
   "source": [
    "1+3"
   ]
  },
  {
   "cell_type": "code",
   "execution_count": 2,
   "id": "e296ace8-674a-4270-be43-763790f6af0d",
   "metadata": {},
   "outputs": [
    {
     "name": "stdout",
     "output_type": "stream",
     "text": [
      "this is my python learning\n"
     ]
    }
   ],
   "source": [
    "print(\"this is my python learning\")"
   ]
  },
  {
   "cell_type": "code",
   "execution_count": 3,
   "id": "cb4243da-5740-4157-96b1-5919d166d7ea",
   "metadata": {},
   "outputs": [
    {
     "data": {
      "text/plain": [
       "25"
      ]
     },
     "execution_count": 3,
     "metadata": {},
     "output_type": "execute_result"
    }
   ],
   "source": [
    "5*5"
   ]
  },
  {
   "cell_type": "code",
   "execution_count": 4,
   "id": "2f21c7f5-856b-4886-8e21-90e7a387b2db",
   "metadata": {},
   "outputs": [],
   "source": [
    "a=10"
   ]
  },
  {
   "cell_type": "code",
   "execution_count": 5,
   "id": "0613280f-f5c1-4de7-a147-1ce0388fced8",
   "metadata": {},
   "outputs": [
    {
     "data": {
      "text/plain": [
       "10"
      ]
     },
     "execution_count": 5,
     "metadata": {},
     "output_type": "execute_result"
    }
   ],
   "source": [
    "a"
   ]
  },
  {
   "cell_type": "code",
   "execution_count": 7,
   "id": "61ba6758-f09f-463e-aa16-84e432647217",
   "metadata": {},
   "outputs": [],
   "source": [
    "a='saurabh'"
   ]
  },
  {
   "cell_type": "code",
   "execution_count": 8,
   "id": "58a2bfc6-2394-4e75-a9fc-62860a2c1e73",
   "metadata": {},
   "outputs": [
    {
     "data": {
      "text/plain": [
       "'saurabh'"
      ]
     },
     "execution_count": 8,
     "metadata": {},
     "output_type": "execute_result"
    }
   ],
   "source": [
    "a"
   ]
  },
  {
   "cell_type": "code",
   "execution_count": 9,
   "id": "cfc6f613-14a6-4898-b251-7093e088afa4",
   "metadata": {},
   "outputs": [
    {
     "data": {
      "text/plain": [
       "str"
      ]
     },
     "execution_count": 9,
     "metadata": {},
     "output_type": "execute_result"
    }
   ],
   "source": [
    "type(a)"
   ]
  },
  {
   "cell_type": "code",
   "execution_count": 1,
   "id": "e2b8b4f3-0f57-4522-946a-182a504493ff",
   "metadata": {},
   "outputs": [],
   "source": [
    "v=8+5j"
   ]
  },
  {
   "cell_type": "code",
   "execution_count": 2,
   "id": "6a73b0d7-7dd0-48c9-ac5f-dd918485a106",
   "metadata": {},
   "outputs": [
    {
     "data": {
      "text/plain": [
       "(8+5j)"
      ]
     },
     "execution_count": 2,
     "metadata": {},
     "output_type": "execute_result"
    }
   ],
   "source": [
    "v"
   ]
  },
  {
   "cell_type": "code",
   "execution_count": 3,
   "id": "92d37aac-cf44-4590-b916-bd2ef2f522ce",
   "metadata": {},
   "outputs": [
    {
     "data": {
      "text/plain": [
       "complex"
      ]
     },
     "execution_count": 3,
     "metadata": {},
     "output_type": "execute_result"
    }
   ],
   "source": [
    "type(v)"
   ]
  },
  {
   "cell_type": "code",
   "execution_count": 4,
   "id": "4ebf1391-a29e-4bfb-8753-b783965bed75",
   "metadata": {},
   "outputs": [
    {
     "data": {
      "text/plain": [
       "8.0"
      ]
     },
     "execution_count": 4,
     "metadata": {},
     "output_type": "execute_result"
    }
   ],
   "source": [
    "v.real"
   ]
  },
  {
   "cell_type": "code",
   "execution_count": 7,
   "id": "d0370f37-a071-4d89-a529-24dde7a85533",
   "metadata": {},
   "outputs": [
    {
     "data": {
      "text/plain": [
       "8.0"
      ]
     },
     "execution_count": 7,
     "metadata": {},
     "output_type": "execute_result"
    }
   ],
   "source": [
    "v.real"
   ]
  },
  {
   "cell_type": "code",
   "execution_count": 8,
   "id": "73e1eec2-cd94-4b8b-8688-34459bce3108",
   "metadata": {},
   "outputs": [
    {
     "data": {
      "text/plain": [
       "5.0"
      ]
     },
     "execution_count": 8,
     "metadata": {},
     "output_type": "execute_result"
    }
   ],
   "source": [
    "v.imag"
   ]
  },
  {
   "cell_type": "code",
   "execution_count": 9,
   "id": "0068d850-d24f-4986-8e2e-6c40d2c7620b",
   "metadata": {},
   "outputs": [
    {
     "name": "stdout",
     "output_type": "stream",
     "text": [
      "5.0\n"
     ]
    }
   ],
   "source": [
    "print(v.imag)"
   ]
  },
  {
   "cell_type": "code",
   "execution_count": 11,
   "id": "389b4334-cbbc-46db-9e82-e34838339511",
   "metadata": {},
   "outputs": [
    {
     "name": "stdout",
     "output_type": "stream",
     "text": [
      "a\n"
     ]
    }
   ],
   "source": [
    "print('a')"
   ]
  },
  {
   "cell_type": "code",
   "execution_count": 12,
   "id": "13da9d27-324a-4237-ab3b-bcd21c343125",
   "metadata": {},
   "outputs": [],
   "source": [
    "s='saurabh'"
   ]
  },
  {
   "cell_type": "code",
   "execution_count": 14,
   "id": "d2efdaec-177e-4b64-a617-15109b6907ca",
   "metadata": {},
   "outputs": [
    {
     "data": {
      "text/plain": [
       "'s'"
      ]
     },
     "execution_count": 14,
     "metadata": {},
     "output_type": "execute_result"
    }
   ],
   "source": [
    "s[0]"
   ]
  },
  {
   "cell_type": "code",
   "execution_count": 15,
   "id": "afa28112-47fe-4bf6-a78e-e4a8f3140acf",
   "metadata": {},
   "outputs": [
    {
     "data": {
      "text/plain": [
       "'h'"
      ]
     },
     "execution_count": 15,
     "metadata": {},
     "output_type": "execute_result"
    }
   ],
   "source": [
    "s[6]"
   ]
  },
  {
   "cell_type": "code",
   "execution_count": 16,
   "id": "6ec40587-9507-4354-bc0e-60cc77335cc0",
   "metadata": {},
   "outputs": [
    {
     "data": {
      "text/plain": [
       "'h'"
      ]
     },
     "execution_count": 16,
     "metadata": {},
     "output_type": "execute_result"
    }
   ],
   "source": [
    "s[-1]"
   ]
  },
  {
   "cell_type": "code",
   "execution_count": 17,
   "id": "d33aaccf-793f-40c8-b98a-95616d1e4a93",
   "metadata": {},
   "outputs": [
    {
     "data": {
      "text/plain": [
       "'a'"
      ]
     },
     "execution_count": 17,
     "metadata": {},
     "output_type": "execute_result"
    }
   ],
   "source": [
    "s[-3]"
   ]
  },
  {
   "cell_type": "code",
   "execution_count": 19,
   "id": "7d316078-e940-45fc-8b31-cb91bb81e5dc",
   "metadata": {},
   "outputs": [
    {
     "data": {
      "text/plain": [
       "'saur'"
      ]
     },
     "execution_count": 19,
     "metadata": {},
     "output_type": "execute_result"
    }
   ],
   "source": [
    "s[0:4]"
   ]
  },
  {
   "cell_type": "code",
   "execution_count": 20,
   "id": "b16d1375-3264-46dc-9519-3e31feb0d0a1",
   "metadata": {},
   "outputs": [
    {
     "data": {
      "text/plain": [
       "'saura'"
      ]
     },
     "execution_count": 20,
     "metadata": {},
     "output_type": "execute_result"
    }
   ],
   "source": [
    "s[:5]"
   ]
  },
  {
   "cell_type": "code",
   "execution_count": 21,
   "id": "ea85ebb1-efff-4d1e-8863-1971acff152d",
   "metadata": {},
   "outputs": [
    {
     "data": {
      "text/plain": [
       "'hbaruas'"
      ]
     },
     "execution_count": 21,
     "metadata": {},
     "output_type": "execute_result"
    }
   ],
   "source": [
    "s[::-1]"
   ]
  },
  {
   "cell_type": "code",
   "execution_count": 23,
   "id": "5394ad1f-e734-4262-be2f-9315ed9bba73",
   "metadata": {},
   "outputs": [
    {
     "data": {
      "text/plain": [
       "'sr'"
      ]
     },
     "execution_count": 23,
     "metadata": {},
     "output_type": "execute_result"
    }
   ],
   "source": [
    "s[:6:3]"
   ]
  },
  {
   "cell_type": "code",
   "execution_count": 24,
   "id": "1f281396-14c0-4ddf-956f-08e8582fece7",
   "metadata": {},
   "outputs": [
    {
     "data": {
      "text/plain": [
       "'hbaruas'"
      ]
     },
     "execution_count": 24,
     "metadata": {},
     "output_type": "execute_result"
    }
   ],
   "source": [
    "s[::-1]"
   ]
  },
  {
   "cell_type": "code",
   "execution_count": 27,
   "id": "1cb2e01e-6d2c-41d2-8b9e-08e7fc0d2099",
   "metadata": {},
   "outputs": [
    {
     "data": {
      "text/plain": [
       "'suah'"
      ]
     },
     "execution_count": 27,
     "metadata": {},
     "output_type": "execute_result"
    }
   ],
   "source": [
    "s[::2]"
   ]
  },
  {
   "cell_type": "code",
   "execution_count": 28,
   "id": "a2cb06bb-7dd1-4d3a-a524-c6ba2d311420",
   "metadata": {},
   "outputs": [
    {
     "data": {
      "text/plain": [
       "'rb'"
      ]
     },
     "execution_count": 28,
     "metadata": {},
     "output_type": "execute_result"
    }
   ],
   "source": [
    "s[3::2]"
   ]
  },
  {
   "cell_type": "code",
   "execution_count": 29,
   "id": "4410f56e-9acd-49f7-96f4-9f889bcc71b6",
   "metadata": {},
   "outputs": [
    {
     "data": {
      "text/plain": [
       "'suah'"
      ]
     },
     "execution_count": 29,
     "metadata": {},
     "output_type": "execute_result"
    }
   ],
   "source": [
    "s[::2]"
   ]
  },
  {
   "cell_type": "code",
   "execution_count": 31,
   "id": "e0268350-6f50-4a69-8b73-81ee7c8dd7cd",
   "metadata": {},
   "outputs": [
    {
     "data": {
      "text/plain": [
       "'saurabh'"
      ]
     },
     "execution_count": 31,
     "metadata": {},
     "output_type": "execute_result"
    }
   ],
   "source": [
    "s[::]"
   ]
  },
  {
   "cell_type": "code",
   "execution_count": 2,
   "id": "17baa701-58f2-4d42-a54b-0f12fabab6c4",
   "metadata": {},
   "outputs": [
    {
     "data": {
      "text/plain": [
       "'PW'"
      ]
     },
     "execution_count": 2,
     "metadata": {},
     "output_type": "execute_result"
    }
   ],
   "source": [
    "s='PWSKILL'\n",
    "s[:-5]"
   ]
  },
  {
   "cell_type": "code",
   "execution_count": 3,
   "id": "0cf181e0-0375-40df-8568-5b3337185c15",
   "metadata": {},
   "outputs": [
    {
     "data": {
      "text/plain": [
       "'LLIKSWP'"
      ]
     },
     "execution_count": 3,
     "metadata": {},
     "output_type": "execute_result"
    }
   ],
   "source": [
    "s[::-1]"
   ]
  },
  {
   "cell_type": "code",
   "execution_count": 4,
   "id": "c4ea6e29-f591-418a-9c58-e729e8ded810",
   "metadata": {},
   "outputs": [
    {
     "data": {
      "text/plain": [
       "''"
      ]
     },
     "execution_count": 4,
     "metadata": {},
     "output_type": "execute_result"
    }
   ],
   "source": [
    "s[2:7:-1] # Here slicing is not possible due to -ive side move"
   ]
  },
  {
   "cell_type": "code",
   "execution_count": 7,
   "id": "9700c634-6712-45c4-b728-7fe375a194db",
   "metadata": {},
   "outputs": [],
   "source": [
    "s='PWSKILLS'"
   ]
  },
  {
   "cell_type": "code",
   "execution_count": 8,
   "id": "c551f661-fdf5-4e1e-8d2b-91aa4c6a9da6",
   "metadata": {},
   "outputs": [
    {
     "data": {
      "text/plain": [
       "''"
      ]
     },
     "execution_count": 8,
     "metadata": {},
     "output_type": "execute_result"
    }
   ],
   "source": [
    "s[8:0]"
   ]
  },
  {
   "cell_type": "code",
   "execution_count": 19,
   "id": "0b60dbb3-86e1-4234-b346-ac9a9895be1b",
   "metadata": {},
   "outputs": [
    {
     "data": {
      "text/plain": [
       "'SLLIKSWP'"
      ]
     },
     "execution_count": 19,
     "metadata": {},
     "output_type": "execute_result"
    }
   ],
   "source": [
    " s[8::-1]"
   ]
  },
  {
   "cell_type": "code",
   "execution_count": 20,
   "id": "6a84d8ea-18f7-453f-bee2-e4f41e72e00b",
   "metadata": {},
   "outputs": [
    {
     "data": {
      "text/plain": [
       "'SLLIKSWP'"
      ]
     },
     "execution_count": 20,
     "metadata": {},
     "output_type": "execute_result"
    }
   ],
   "source": [
    " s[::-1]"
   ]
  },
  {
   "cell_type": "code",
   "execution_count": 21,
   "id": "a1b2cccd-f36d-43c7-bab3-769ebdc068da",
   "metadata": {},
   "outputs": [
    {
     "data": {
      "text/plain": [
       "'LLIKSWP'"
      ]
     },
     "execution_count": 21,
     "metadata": {},
     "output_type": "execute_result"
    }
   ],
   "source": [
    "s[-2::-1]"
   ]
  },
  {
   "cell_type": "code",
   "execution_count": 24,
   "id": "a13400b7-b0c0-4515-973a-a5d04591a9ce",
   "metadata": {},
   "outputs": [
    {
     "ename": "IndexError",
     "evalue": "string index out of range",
     "output_type": "error",
     "traceback": [
      "\u001b[1;31m---------------------------------------------------------------------------\u001b[0m",
      "\u001b[1;31mIndexError\u001b[0m                                Traceback (most recent call last)",
      "Cell \u001b[1;32mIn[24], line 1\u001b[0m\n\u001b[1;32m----> 1\u001b[0m \u001b[43ms\u001b[49m\u001b[43m[\u001b[49m\u001b[38;5;241;43m90\u001b[39;49m\u001b[43m]\u001b[49m\n",
      "\u001b[1;31mIndexError\u001b[0m: string index out of range"
     ]
    }
   ],
   "source": [
    " s[90]"
   ]
  },
  {
   "cell_type": "code",
   "execution_count": 25,
   "id": "5487c48e-4e7b-4b95-837c-4fa88f8d061d",
   "metadata": {},
   "outputs": [
    {
     "data": {
      "text/plain": [
       "''"
      ]
     },
     "execution_count": 25,
     "metadata": {},
     "output_type": "execute_result"
    }
   ],
   "source": [
    "s[:-90:]"
   ]
  },
  {
   "cell_type": "code",
   "execution_count": 26,
   "id": "4836d3f5-bd53-4a9b-a5da-63ecdf50800b",
   "metadata": {},
   "outputs": [],
   "source": [
    " s1='This is my string class'"
   ]
  },
  {
   "cell_type": "code",
   "execution_count": 27,
   "id": "8c01a099-3e16-4d26-b2ae-661079bd16cd",
   "metadata": {},
   "outputs": [
    {
     "data": {
      "text/plain": [
       "23"
      ]
     },
     "execution_count": 27,
     "metadata": {},
     "output_type": "execute_result"
    }
   ],
   "source": [
    "len(s1)"
   ]
  },
  {
   "cell_type": "code",
   "execution_count": 30,
   "id": "f5bacd98-6acc-4196-9741-f9e04c01fc11",
   "metadata": {},
   "outputs": [
    {
     "data": {
      "text/plain": [
       "2"
      ]
     },
     "execution_count": 30,
     "metadata": {},
     "output_type": "execute_result"
    }
   ],
   "source": [
    "s1.find('i')"
   ]
  },
  {
   "cell_type": "code",
   "execution_count": 31,
   "id": "4cbd82fe-2bdc-41d5-ad4c-195b9395e03e",
   "metadata": {},
   "outputs": [
    {
     "data": {
      "text/plain": [
       "2"
      ]
     },
     "execution_count": 31,
     "metadata": {},
     "output_type": "execute_result"
    }
   ],
   "source": [
    " s1.find('is')"
   ]
  },
  {
   "cell_type": "code",
   "execution_count": 32,
   "id": "1656ef5e-8203-467a-97e7-b211005e0bc3",
   "metadata": {},
   "outputs": [
    {
     "data": {
      "text/plain": [
       "-1"
      ]
     },
     "execution_count": 32,
     "metadata": {},
     "output_type": "execute_result"
    }
   ],
   "source": [
    "s1.find('iS')"
   ]
  },
  {
   "cell_type": "code",
   "execution_count": 34,
   "id": "035b298d-b2a8-4a44-ace1-567f9a589043",
   "metadata": {},
   "outputs": [
    {
     "data": {
      "text/plain": [
       "5"
      ]
     },
     "execution_count": 34,
     "metadata": {},
     "output_type": "execute_result"
    }
   ],
   "source": [
    "s1.count('s')"
   ]
  },
  {
   "cell_type": "code",
   "execution_count": 36,
   "id": "d3543e3e-2c6d-465b-9042-acd5408e8dc6",
   "metadata": {},
   "outputs": [
    {
     "data": {
      "text/plain": [
       "1"
      ]
     },
     "execution_count": 36,
     "metadata": {},
     "output_type": "execute_result"
    }
   ],
   "source": [
    "s1.count(\"This\")"
   ]
  },
  {
   "cell_type": "code",
   "execution_count": 37,
   "id": "e606557b-6b4a-45eb-b78d-39c51b197d5b",
   "metadata": {},
   "outputs": [
    {
     "data": {
      "text/plain": [
       "'THIS IS MY STRING CLASS'"
      ]
     },
     "execution_count": 37,
     "metadata": {},
     "output_type": "execute_result"
    }
   ],
   "source": [
    "s1.upper()"
   ]
  },
  {
   "cell_type": "code",
   "execution_count": 40,
   "id": "9e074667-a088-48d9-87e1-7245508ac43e",
   "metadata": {},
   "outputs": [],
   "source": [
    "s2=s1.lower()"
   ]
  },
  {
   "cell_type": "code",
   "execution_count": 42,
   "id": "2ad45e2d-41c0-47bc-bab0-27f8e16c2538",
   "metadata": {},
   "outputs": [
    {
     "data": {
      "text/plain": [
       "'this is my string class'"
      ]
     },
     "execution_count": 42,
     "metadata": {},
     "output_type": "execute_result"
    }
   ],
   "source": [
    "s2"
   ]
  },
  {
   "cell_type": "code",
   "execution_count": 43,
   "id": "77b765d0-c927-4166-9ebf-7bea70ef734d",
   "metadata": {},
   "outputs": [
    {
     "data": {
      "text/plain": [
       "'This Is My String Class'"
      ]
     },
     "execution_count": 43,
     "metadata": {},
     "output_type": "execute_result"
    }
   ],
   "source": [
    "s2.title()"
   ]
  },
  {
   "cell_type": "code",
   "execution_count": 44,
   "id": "8aa97c8c-3113-45f1-897c-ae6d43445184",
   "metadata": {},
   "outputs": [
    {
     "data": {
      "text/plain": [
       "'This is my string class'"
      ]
     },
     "execution_count": 44,
     "metadata": {},
     "output_type": "execute_result"
    }
   ],
   "source": [
    "s2.capitalize()"
   ]
  },
  {
   "cell_type": "code",
   "execution_count": 46,
   "id": "37b7cd68-4c1b-4ed7-9865-93fa1530e178",
   "metadata": {},
   "outputs": [
    {
     "data": {
      "text/plain": [
       "'PWSKILLS1'"
      ]
     },
     "execution_count": 46,
     "metadata": {},
     "output_type": "execute_result"
    }
   ],
   "source": [
    "s+'1'"
   ]
  },
  {
   "cell_type": "code",
   "execution_count": 48,
   "id": "bed3b55e-5249-4724-9a20-fee139393ae6",
   "metadata": {},
   "outputs": [],
   "source": [
    "s='Saurabh'"
   ]
  },
  {
   "cell_type": "code",
   "execution_count": 54,
   "id": "91147257-feaf-4f01-bccb-944b6858f41d",
   "metadata": {},
   "outputs": [],
   "source": [
    "t=' tanwar'"
   ]
  },
  {
   "cell_type": "code",
   "execution_count": 55,
   "id": "ea9d523d-04bf-4ede-b0ab-7e068b76db6a",
   "metadata": {},
   "outputs": [
    {
     "data": {
      "text/plain": [
       "'Saurabh tanwar'"
      ]
     },
     "execution_count": 55,
     "metadata": {},
     "output_type": "execute_result"
    }
   ],
   "source": [
    "s + t"
   ]
  },
  {
   "cell_type": "code",
   "execution_count": 56,
   "id": "a3b28173-c4ea-419a-a255-798004a37cf3",
   "metadata": {},
   "outputs": [
    {
     "data": {
      "text/plain": [
       "'SaurabhSaurabhSaurabh'"
      ]
     },
     "execution_count": 56,
     "metadata": {},
     "output_type": "execute_result"
    }
   ],
   "source": [
    "s*3"
   ]
  },
  {
   "cell_type": "code",
   "execution_count": 58,
   "id": "745843f2-0cdd-4567-b2a7-6c420a4bb926",
   "metadata": {},
   "outputs": [
    {
     "data": {
      "text/plain": [
       "\"don't do copy and paste in my class\""
      ]
     },
     "execution_count": 58,
     "metadata": {},
     "output_type": "execute_result"
    }
   ],
   "source": [
    "\"don't do copy and paste in my class\""
   ]
  },
  {
   "cell_type": "code",
   "execution_count": null,
   "id": "d27c21c1-edcd-4f95-b8d7-bb64a7ad9308",
   "metadata": {},
   "outputs": [],
   "source": [
    "##don't do copy and paste in my class"
   ]
  },
  {
   "cell_type": "code",
   "execution_count": 1,
   "id": "89f06432-c4f9-455a-b660-a714de41430a",
   "metadata": {},
   "outputs": [],
   "source": [
    "l=[1,2,3]"
   ]
  },
  {
   "cell_type": "code",
   "execution_count": 2,
   "id": "51a89b67-c6d9-4109-b6cb-f07df9bcfb02",
   "metadata": {},
   "outputs": [
    {
     "data": {
      "text/plain": [
       "6"
      ]
     },
     "execution_count": 2,
     "metadata": {},
     "output_type": "execute_result"
    }
   ],
   "source": [
    "sum(l)"
   ]
  },
  {
   "cell_type": "code",
   "execution_count": 3,
   "id": "77291534-1087-41b6-bfa9-027d12453084",
   "metadata": {},
   "outputs": [
    {
     "data": {
      "text/plain": [
       "120"
      ]
     },
     "execution_count": 3,
     "metadata": {},
     "output_type": "execute_result"
    }
   ],
   "source": [
    "l=[1,2,3,4,5,6,7,8,9,10,11,12,13,14,15]\n",
    "sum(l)"
   ]
  },
  {
   "cell_type": "code",
   "execution_count": null,
   "id": "877b9e5f-f12f-4229-b9cf-62f390d9f018",
   "metadata": {},
   "outputs": [],
   "source": []
  },
  {
   "cell_type": "code",
   "execution_count": null,
   "id": "0e323147-1fc7-4178-ae8a-57022c18a2af",
   "metadata": {},
   "outputs": [],
   "source": []
  },
  {
   "cell_type": "code",
   "execution_count": null,
   "id": "0651b692-0715-43f6-9519-60b6a16213af",
   "metadata": {},
   "outputs": [],
   "source": []
  }
 ],
 "metadata": {
  "kernelspec": {
   "display_name": "Python 3 (ipykernel)",
   "language": "python",
   "name": "python3"
  },
  "language_info": {
   "codemirror_mode": {
    "name": "ipython",
    "version": 3
   },
   "file_extension": ".py",
   "mimetype": "text/x-python",
   "name": "python",
   "nbconvert_exporter": "python",
   "pygments_lexer": "ipython3",
   "version": "3.13.0"
  }
 },
 "nbformat": 4,
 "nbformat_minor": 5
}
