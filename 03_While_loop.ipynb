{
 "cells": [
  {
   "cell_type": "code",
   "execution_count": 1,
   "id": "a68cf655-e6f6-4e96-8016-a30165605d57",
   "metadata": {},
   "outputs": [
    {
     "name": "stdout",
     "output_type": "stream",
     "text": [
      "1\n",
      "2\n",
      "3\n",
      "4\n",
      "5\n",
      "6\n",
      "7\n",
      "8\n",
      "9\n",
      "10\n"
     ]
    }
   ],
   "source": [
    "a=1\n",
    "\n",
    "while a<=10:\n",
    "    print(a)\n",
    "    a=a+1"
   ]
  },
  {
   "cell_type": "code",
   "execution_count": 7,
   "id": "14ab7a12-8948-487a-85d6-ff60caeb4c07",
   "metadata": {},
   "outputs": [
    {
     "name": "stdin",
     "output_type": "stream",
     "text": [
      "Enter your limit:  60\n"
     ]
    },
    {
     "data": {
      "text/plain": [
       "1830"
      ]
     },
     "execution_count": 7,
     "metadata": {},
     "output_type": "execute_result"
    }
   ],
   "source": [
    "#sum up the number till up some point\n",
    "\n",
    "n=int(input(\"Enter your limit: \"))\n",
    "result=0\n",
    "counter=1\n",
    "\n",
    "while counter<=n:\n",
    "    result=result+counter\n",
    "    counter=counter+1\n",
    "result"
   ]
  },
  {
   "cell_type": "code",
   "execution_count": 8,
   "id": "68aa8f08-b373-482f-bd75-dc42d5316313",
   "metadata": {},
   "outputs": [],
   "source": [
    "# Factorial of number"
   ]
  },
  {
   "cell_type": "code",
   "execution_count": 12,
   "id": "0ff57630-a923-4336-9ad1-53c36bd4f4f4",
   "metadata": {},
   "outputs": [
    {
     "name": "stdin",
     "output_type": "stream",
     "text": [
      "Enter your number 5\n"
     ]
    },
    {
     "data": {
      "text/plain": [
       "120"
      ]
     },
     "execution_count": 12,
     "metadata": {},
     "output_type": "execute_result"
    }
   ],
   "source": [
    "num=int(input(\"Enter your number\"))\n",
    "factorial=1\n",
    "\n",
    "while num>0:\n",
    "    factorial=factorial*num\n",
    "    num=num-1\n",
    "    \n",
    "factorial"
   ]
  },
  {
   "cell_type": "code",
   "execution_count": 24,
   "id": "8a278c8d-3fa2-4456-9105-635f44946625",
   "metadata": {},
   "outputs": [],
   "source": [
    "# Fabnonacci Series\n",
    "# 0,1,1,2,3,5,8,13,21,34"
   ]
  },
  {
   "cell_type": "code",
   "execution_count": 27,
   "id": "560c8255-cb99-4b90-8221-31893b7cacf6",
   "metadata": {},
   "outputs": [
    {
     "name": "stdin",
     "output_type": "stream",
     "text": [
      "Enter number where till do yo want series:  6\n"
     ]
    },
    {
     "name": "stdout",
     "output_type": "stream",
     "text": [
      "0\n",
      "1\n",
      "1\n",
      "2\n",
      "3\n",
      "5\n"
     ]
    }
   ],
   "source": [
    "num=int(input(\"Enter number where till do yo want series: \"))\n",
    "a , b = 0, 1\n",
    "\n",
    "counter=0\n",
    "\n",
    "while counter<num:\n",
    "    print(a)\n",
    "    c=a+b\n",
    "    a=b\n",
    "    b=c\n",
    "    counter=counter+1"
   ]
  },
  {
   "cell_type": "code",
   "execution_count": 28,
   "id": "5e8d0cf1-fbd3-4fb9-840d-7dd15cbc6af4",
   "metadata": {},
   "outputs": [
    {
     "name": "stdout",
     "output_type": "stream",
     "text": [
      "0\n",
      "1\n",
      "1\n",
      "2\n",
      "3\n",
      "5\n",
      "8\n",
      "13\n",
      "21\n",
      "34\n"
     ]
    }
   ],
   "source": [
    "a=0\n",
    "b=1\n",
    "\n",
    "for i in range(10):\n",
    "    print(a)\n",
    "    c=a+b\n",
    "    a=b\n",
    "    b=c\n",
    "    "
   ]
  },
  {
   "cell_type": "code",
   "execution_count": 29,
   "id": "88be66b7-6429-4874-b9c3-a031bc294448",
   "metadata": {},
   "outputs": [],
   "source": [
    "#inverse the word"
   ]
  },
  {
   "cell_type": "code",
   "execution_count": 32,
   "id": "265ce607-4c7f-4357-9b0e-9a5b47841bf6",
   "metadata": {},
   "outputs": [
    {
     "name": "stdin",
     "output_type": "stream",
     "text": [
      "Enter your word :  saurabh\n"
     ]
    },
    {
     "name": "stdout",
     "output_type": "stream",
     "text": [
      "hbaruas\n"
     ]
    }
   ],
   "source": [
    "word=input(\"Enter your word : \")\n",
    "reverse=''\n",
    "l=len(word)\n",
    "\n",
    "while l>0:\n",
    "    reverse=reverse+word[l-1]\n",
    "    l=l-1\n",
    "print(reverse)"
   ]
  },
  {
   "cell_type": "code",
   "execution_count": 46,
   "id": "3503026d-a1f1-4fce-832f-b85777504fbe",
   "metadata": {},
   "outputs": [
    {
     "name": "stdin",
     "output_type": "stream",
     "text": [
      "Enter your word :  sun\n"
     ]
    },
    {
     "name": "stdout",
     "output_type": "stream",
     "text": [
      "nus\n"
     ]
    }
   ],
   "source": [
    "word=input(\"Enter your word : \")\n",
    "reverse=''\n",
    "for i in range(len(word)-1,-1,-1):\n",
    "    reverse = reverse+word[i]\n",
    "print(reverse)\n"
   ]
  },
  {
   "cell_type": "code",
   "execution_count": 44,
   "id": "0072b9fd-4f75-4ebb-83fa-1620139d3883",
   "metadata": {},
   "outputs": [
    {
     "name": "stdin",
     "output_type": "stream",
     "text": [
      "Enter your word:  sun\n"
     ]
    },
    {
     "name": "stdout",
     "output_type": "stream",
     "text": [
      "nus\n"
     ]
    }
   ],
   "source": [
    "word = input(\"Enter your word: \")\n",
    "reverse = \"\"\n",
    "for i in range(len(word)-1, -1, -1):  # Iterate backward\n",
    "    reverse += word[i]\n",
    "print(reverse)"
   ]
  },
  {
   "cell_type": "code",
   "execution_count": 50,
   "id": "f9448da3-e487-4757-8bbb-6a766108609b",
   "metadata": {},
   "outputs": [
    {
     "data": {
      "text/plain": [
       "(6, -1, -1)"
      ]
     },
     "execution_count": 50,
     "metadata": {},
     "output_type": "execute_result"
    }
   ],
   "source": [
    "word='saurabh'\n",
    "len(word)-1,-1,-1"
   ]
  },
  {
   "cell_type": "code",
   "execution_count": 1,
   "id": "5af7ef06-3b35-4e59-bc2a-8153abab6cca",
   "metadata": {},
   "outputs": [],
   "source": [
    "# print table of number"
   ]
  },
  {
   "cell_type": "code",
   "execution_count": 8,
   "id": "9b8769c9-575c-4432-90ba-0e4a0fb6e3fb",
   "metadata": {},
   "outputs": [
    {
     "name": "stdin",
     "output_type": "stream",
     "text": [
      "Enter table number :  199\n"
     ]
    },
    {
     "name": "stdout",
     "output_type": "stream",
     "text": [
      "1x199 = 199\n",
      "2x199 = 398\n",
      "3x199 = 597\n",
      "4x199 = 796\n",
      "5x199 = 995\n",
      "6x199 = 1194\n",
      "7x199 = 1393\n",
      "8x199 = 1592\n",
      "9x199 = 1791\n",
      "10x199 = 1990\n"
     ]
    }
   ],
   "source": [
    "n=int(input(\"Enter table number : \"))\n",
    "for i in range(1,11):\n",
    "    print(f'{i}x{n} = {i*n}')"
   ]
  },
  {
   "cell_type": "code",
   "execution_count": 3,
   "id": "b6549aae-3b8f-4a3d-9c55-94f69232c7ff",
   "metadata": {},
   "outputs": [
    {
     "name": "stdin",
     "output_type": "stream",
     "text": [
      "Enter table number :  5\n"
     ]
    },
    {
     "name": "stdout",
     "output_type": "stream",
     "text": [
      "5*1 = 5\n",
      "5*2 = 10\n",
      "5*3 = 15\n",
      "5*4 = 20\n",
      "5*5 = 25\n",
      "5*6 = 30\n",
      "5*7 = 35\n",
      "5*8 = 40\n",
      "5*9 = 45\n",
      "5*10 = 50\n"
     ]
    }
   ],
   "source": [
    "n=int(input(\"Enter table number : \"))\n",
    "i=1\n",
    "while i<=10:\n",
    "    print(f'{n}*{i} = {i*n}')\n",
    "    i=i+1"
   ]
  },
  {
   "cell_type": "code",
   "execution_count": null,
   "id": "1d93f1de-d0b6-415e-9515-670f3d457b3e",
   "metadata": {},
   "outputs": [],
   "source": []
  }
 ],
 "metadata": {
  "kernelspec": {
   "display_name": "Python 3 (ipykernel)",
   "language": "python",
   "name": "python3"
  },
  "language_info": {
   "codemirror_mode": {
    "name": "ipython",
    "version": 3
   },
   "file_extension": ".py",
   "mimetype": "text/x-python",
   "name": "python",
   "nbconvert_exporter": "python",
   "pygments_lexer": "ipython3",
   "version": "3.13.0"
  }
 },
 "nbformat": 4,
 "nbformat_minor": 5
}
