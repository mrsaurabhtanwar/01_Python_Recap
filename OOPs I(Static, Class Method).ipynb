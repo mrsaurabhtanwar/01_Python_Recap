{
 "cells": [
  {
   "cell_type": "markdown",
   "id": "9c7fb9a9-5dc4-4a1b-a652-51bf60a7c933",
   "metadata": {},
   "source": [
    "## Object-Oriented Programmimg"
   ]
  },
  {
   "cell_type": "code",
   "execution_count": 1,
   "id": "3fe96ee2-f6b6-4062-8c16-9ed62b499229",
   "metadata": {},
   "outputs": [],
   "source": [
    "a=1"
   ]
  },
  {
   "cell_type": "code",
   "execution_count": 3,
   "id": "92ff22e6-dcab-406c-986c-38a813d5e05c",
   "metadata": {},
   "outputs": [
    {
     "name": "stdout",
     "output_type": "stream",
     "text": [
      "<class 'int'>\n"
     ]
    }
   ],
   "source": [
    "print(type(a))"
   ]
  },
  {
   "cell_type": "code",
   "execution_count": 4,
   "id": "0233372b-370b-40bc-931a-3014d4af1708",
   "metadata": {},
   "outputs": [
    {
     "name": "stdout",
     "output_type": "stream",
     "text": [
      "<class 'str'>\n"
     ]
    }
   ],
   "source": [
    "print(type('Saurabh'))"
   ]
  },
  {
   "cell_type": "code",
   "execution_count": 6,
   "id": "87956c49-6aa1-4b2f-9dc8-548f97c3888e",
   "metadata": {},
   "outputs": [],
   "source": [
    "## Class is a just reprsentation/classification of real world things(As a Blue Print)\n",
    "## Object is a real word things which also called variables or instance"
   ]
  },
  {
   "cell_type": "code",
   "execution_count": 7,
   "id": "11ea08dd-9fd1-403c-b3ec-c2aef3bbad76",
   "metadata": {},
   "outputs": [],
   "source": [
    "class test:\n",
    "    pass"
   ]
  },
  {
   "cell_type": "code",
   "execution_count": 9,
   "id": "e7317084-b85b-4982-a517-fde628e251b6",
   "metadata": {},
   "outputs": [
    {
     "name": "stdout",
     "output_type": "stream",
     "text": [
      "<class '__main__.test'>\n"
     ]
    }
   ],
   "source": [
    "a = test()\n",
    "print(type(a)) "
   ]
  },
  {
   "cell_type": "code",
   "execution_count": 14,
   "id": "7cbe1e72-ba61-4fb1-9612-a40f49a2f194",
   "metadata": {},
   "outputs": [],
   "source": [
    "class MinorinAI:\n",
    "    def welcome(self):\n",
    "        print(\"Welcome to IIT Ropar\")"
   ]
  },
  {
   "cell_type": "code",
   "execution_count": 15,
   "id": "9829edf2-c0c5-45f0-822a-3d83b6c3cd8a",
   "metadata": {},
   "outputs": [],
   "source": [
    "saurabh=MinorinAI()"
   ]
  },
  {
   "cell_type": "code",
   "execution_count": 16,
   "id": "7d7183f4-e4d2-446a-b4fe-b175b7fac0be",
   "metadata": {},
   "outputs": [
    {
     "name": "stdout",
     "output_type": "stream",
     "text": [
      "<class '__main__.MinorinAI'>\n"
     ]
    }
   ],
   "source": [
    "print(type(saurabh))"
   ]
  },
  {
   "cell_type": "code",
   "execution_count": 17,
   "id": "b5f4db93-ba5d-4ba0-9b89-738bd16c6c1d",
   "metadata": {},
   "outputs": [
    {
     "name": "stdout",
     "output_type": "stream",
     "text": [
      "Welcome to IIT Ropar\n"
     ]
    }
   ],
   "source": [
    "saurabh.welcome()"
   ]
  },
  {
   "cell_type": "code",
   "execution_count": 18,
   "id": "f2b5cc34-f377-4135-89f6-f92d9476fe00",
   "metadata": {},
   "outputs": [],
   "source": [
    "Gaurav=MinorinAI()"
   ]
  },
  {
   "cell_type": "code",
   "execution_count": 19,
   "id": "b25803bc-e00b-44f0-9025-a8e96ec98453",
   "metadata": {},
   "outputs": [
    {
     "name": "stdout",
     "output_type": "stream",
     "text": [
      "Welcome to IIT Ropar\n"
     ]
    }
   ],
   "source": [
    "Gaurav.welcome()"
   ]
  },
  {
   "cell_type": "code",
   "execution_count": 22,
   "id": "b6ec8e64-1937-4622-a466-96cc935a0f96",
   "metadata": {},
   "outputs": [],
   "source": [
    "class Detail:\n",
    "    def __init__(self, phone_number, email_id, student_id):\n",
    "        self.phone_number=phone_number\n",
    "        self.email_id=email_id            ### Here SELF bend the variable with the class(Make Connection with Varriable & Class)\n",
    "        self.student_id=student_id        ### If we want to acees the class we have to do with the help of Self.var such type\n",
    "\n",
    "    def return_student_details(self):\n",
    "        return self.student_id, self.phone_number, self.email_id"
   ]
  },
  {
   "cell_type": "code",
   "execution_count": 25,
   "id": "ba78c8c9-acfc-49fb-8644-bba474d4d2cb",
   "metadata": {},
   "outputs": [],
   "source": [
    "rohan=Detail(784859595, \"saurabhhhhhhhh@gmail.com\", 101)\n",
    "ram=Detail(784833595, \"saurabhhfmdvh@gmail.com\", 641)\n",
    "dalaram=Detail(7848359595, \"sauradvvcvgmail.com\", 301)\n",
    "naveen=Detail(78483359595, \"saurabhhhhhhhh@gmail.com\", 501)\n",
    "roy=Detail(7848533339595, \"saurabhhhhhhhh@gmail.com\", 151)\n",
    "nisha=Detail(7848333359595, \"saurabhhhhhhhh@gmail.com\", 601)\n",
    "nikhil=Detail(784853339595, \"saurabhhhhhhhh@gmail.com\", 106)"
   ]
  },
  {
   "cell_type": "code",
   "execution_count": 26,
   "id": "605175a1-42f7-40bc-af15-7cd2bf977597",
   "metadata": {},
   "outputs": [
    {
     "data": {
      "text/plain": [
       "(101, 784859595, 'saurabhhhhhhhh@gmail.com')"
      ]
     },
     "execution_count": 26,
     "metadata": {},
     "output_type": "execute_result"
    }
   ],
   "source": [
    "rohan.return_student_details()"
   ]
  },
  {
   "cell_type": "code",
   "execution_count": 27,
   "id": "5764cf46-4a98-4703-8942-ab96c9649e4c",
   "metadata": {},
   "outputs": [
    {
     "data": {
      "text/plain": [
       "(641, 784833595, 'saurabhhfmdvh@gmail.com')"
      ]
     },
     "execution_count": 27,
     "metadata": {},
     "output_type": "execute_result"
    }
   ],
   "source": [
    "ram.return_student_details()"
   ]
  },
  {
   "cell_type": "code",
   "execution_count": 29,
   "id": "123ed600-7769-4184-b2f0-c3cb3e6c5c8b",
   "metadata": {},
   "outputs": [
    {
     "data": {
      "text/plain": [
       "'saurabhhhhhhhh@gmail.com'"
      ]
     },
     "execution_count": 29,
     "metadata": {},
     "output_type": "execute_result"
    }
   ],
   "source": [
    "roy.email_id"
   ]
  },
  {
   "cell_type": "code",
   "execution_count": 30,
   "id": "93b8fa47-2b21-4975-afb6-5a5c55abdede",
   "metadata": {},
   "outputs": [
    {
     "data": {
      "text/plain": [
       "784853339595"
      ]
     },
     "execution_count": 30,
     "metadata": {},
     "output_type": "execute_result"
    }
   ],
   "source": [
    "nikhil.phone_number"
   ]
  },
  {
   "cell_type": "code",
   "execution_count": null,
   "id": "aefcf5e2-e244-48e7-a549-e3f6c896fef4",
   "metadata": {},
   "outputs": [],
   "source": []
  },
  {
   "cell_type": "code",
   "execution_count": null,
   "id": "0eba34b4-4aa8-43c7-b7ef-a887becc4f17",
   "metadata": {},
   "outputs": [],
   "source": []
  },
  {
   "cell_type": "markdown",
   "id": "ae285713-cb7e-4457-8b55-ed631f3b372c",
   "metadata": {},
   "source": [
    "## Static Method"
   ]
  },
  {
   "cell_type": "raw",
   "id": "82ecd355-3e6f-4fe6-8432-e3888260308e",
   "metadata": {},
   "source": [
    "By the help of Static method we can access any function without creating an object."
   ]
  },
  {
   "cell_type": "code",
   "execution_count": 2,
   "id": "f7b76171-2f37-411d-a4db-5795fe7b79c0",
   "metadata": {},
   "outputs": [],
   "source": [
    "class school:\n",
    "    def student_details(self, name, mail, number):\n",
    "        print(name, mail, number)"
   ]
  },
  {
   "cell_type": "code",
   "execution_count": 3,
   "id": "d7bfcd7a-6014-40f5-b352-515cab1418f0",
   "metadata": {},
   "outputs": [],
   "source": [
    "sch=school()"
   ]
  },
  {
   "cell_type": "code",
   "execution_count": null,
   "id": "9f1beaed-eb75-4230-ae6f-0b5f0707cd6d",
   "metadata": {},
   "outputs": [],
   "source": [
    "sch.student_details('saurabh', 'saurabh@gmail.com', )"
   ]
  },
  {
   "cell_type": "code",
   "execution_count": 3,
   "id": "32f07bc6-6dc5-45bf-8604-3015bb22c345",
   "metadata": {},
   "outputs": [],
   "source": [
    "class school:\n",
    "    def student_details(self, name, mail, number): ## But here we have to create an object to call this function\n",
    "        print(name, mail, number) \n",
    "\n",
    "    @staticmethod\n",
    "    def mentor_class(list_mentor): # we can access it without creating object\n",
    "        print(list_mentor)"
   ]
  },
  {
   "cell_type": "code",
   "execution_count": 4,
   "id": "e86f7f65-6e1e-4561-b977-b73d82bec4fd",
   "metadata": {},
   "outputs": [
    {
     "name": "stdout",
     "output_type": "stream",
     "text": [
      "['Saurabh', 'Tanwar', 'Farahan']\n"
     ]
    }
   ],
   "source": [
    "school.mentor_class([\"Saurabh\", \"Tanwar\", \"Farahan\"])"
   ]
  },
  {
   "cell_type": "code",
   "execution_count": 7,
   "id": "c0ff8223-e788-4559-b3c4-9c0b61e0e0e5",
   "metadata": {},
   "outputs": [],
   "source": [
    "stud1=school()\n",
    "stud2=school()\n",
    "stud3=school()\n",
    "stud4=school()"
   ]
  },
  {
   "cell_type": "code",
   "execution_count": 6,
   "id": "438d9e90-65be-460c-a1dd-c25b1ca526cb",
   "metadata": {},
   "outputs": [
    {
     "name": "stdout",
     "output_type": "stream",
     "text": [
      "Saurabh gssaini73@gmail.com 9553434940\n"
     ]
    }
   ],
   "source": [
    "stud1.student_details('Saurabh', 'gssaini73@gmail.com', 9553434940)"
   ]
  },
  {
   "cell_type": "code",
   "execution_count": 9,
   "id": "673d9142-58aa-4926-ac1b-b4668aecaa3d",
   "metadata": {},
   "outputs": [
    {
     "name": "stdout",
     "output_type": "stream",
     "text": [
      "['Saurabh', 'Tanwar', 'Farahan']\n"
     ]
    }
   ],
   "source": [
    "stud1.mentor_class([\"Saurabh\", \"Tanwar\", \"Farahan\"])"
   ]
  },
  {
   "cell_type": "code",
   "execution_count": null,
   "id": "7d58b3fe-3866-4ef0-aec6-b866afb77db2",
   "metadata": {},
   "outputs": [],
   "source": []
  },
  {
   "cell_type": "code",
   "execution_count": null,
   "id": "c8fe7e98-a944-49aa-bb15-b8201f57dadf",
   "metadata": {},
   "outputs": [],
   "source": []
  },
  {
   "cell_type": "markdown",
   "id": "cd3df82a-53a5-40bc-b0c4-eb7c4a2315b1",
   "metadata": {},
   "source": [
    "## Class Method"
   ]
  },
  {
   "cell_type": "raw",
   "id": "a27ab018-1cd2-450e-ae7b-82fa50c91514",
   "metadata": {},
   "source": [
    "By the help Class method we can do overload the __init__ function. "
   ]
  },
  {
   "cell_type": "code",
   "execution_count": 3,
   "id": "e067b69f-25ed-40bb-952a-512c3bb31185",
   "metadata": {},
   "outputs": [],
   "source": [
    "class minorinAI:\n",
    "    def __init__(self, name, email):\n",
    "        self.name=name\n",
    "        self.email=email\n",
    "\n",
    "    def student_details(self):\n",
    "        print(self.name, self.email)"
   ]
  },
  {
   "cell_type": "code",
   "execution_count": 7,
   "id": "f6414729-0162-4ed9-b397-2f8885d73943",
   "metadata": {},
   "outputs": [],
   "source": [
    "st=minorinAI('Saurabh', '27098@arsd.du.ac.in')"
   ]
  },
  {
   "cell_type": "code",
   "execution_count": 15,
   "id": "80e6f5a5-daf1-4602-b8d1-169240e2605e",
   "metadata": {},
   "outputs": [
    {
     "data": {
      "text/plain": [
       "'Saurabh'"
      ]
     },
     "execution_count": 15,
     "metadata": {},
     "output_type": "execute_result"
    }
   ],
   "source": [
    "st.name"
   ]
  },
  {
   "cell_type": "code",
   "execution_count": 17,
   "id": "ae96be11-6ac7-4ec2-989d-1c1c6c7d05f7",
   "metadata": {},
   "outputs": [
    {
     "data": {
      "text/plain": [
       "'27098@arsd.du.ac.in'"
      ]
     },
     "execution_count": 17,
     "metadata": {},
     "output_type": "execute_result"
    }
   ],
   "source": [
    "st.email"
   ]
  },
  {
   "cell_type": "code",
   "execution_count": 21,
   "id": "1bd88591-82d1-490d-ad86-94e50f32d73f",
   "metadata": {},
   "outputs": [
    {
     "name": "stdout",
     "output_type": "stream",
     "text": [
      "Saurabh 27098@arsd.du.ac.in\n"
     ]
    }
   ],
   "source": [
    "st.student_details()"
   ]
  },
  {
   "cell_type": "code",
   "execution_count": 23,
   "id": "578ef5a5-4227-4701-a3b8-765c665bcdea",
   "metadata": {},
   "outputs": [],
   "source": [
    "class minorinAI1:\n",
    "    def __init__(self, name, email):\n",
    "        self.name=name\n",
    "        self.email=email\n",
    "\n",
    "    @classmethod \n",
    "    # Decorator is a special type of method or function which decorator the below function such that instead of\n",
    "    # calling the __init__ method we can call the below function.\n",
    "    def details(cls, name, email):\n",
    "        return cls(name, email)\n",
    "\n",
    "    def student_details(self):\n",
    "        print(self.name, self.email)"
   ]
  },
  {
   "cell_type": "code",
   "execution_count": 27,
   "id": "e409649b-edb6-4d42-9ae4-cd9ce708f566",
   "metadata": {},
   "outputs": [],
   "source": [
    "ai=minorinAI1.details('Saurabh', 'Email@gmail.com')"
   ]
  },
  {
   "cell_type": "code",
   "execution_count": 29,
   "id": "3e3891e9-f492-4aa3-8793-469f7c532f09",
   "metadata": {},
   "outputs": [
    {
     "data": {
      "text/plain": [
       "'Saurabh'"
      ]
     },
     "execution_count": 29,
     "metadata": {},
     "output_type": "execute_result"
    }
   ],
   "source": [
    "ai.name"
   ]
  },
  {
   "cell_type": "code",
   "execution_count": 31,
   "id": "3c4d927d-f682-4419-af27-225286ba90fa",
   "metadata": {},
   "outputs": [
    {
     "data": {
      "text/plain": [
       "'Email@gmail.com'"
      ]
     },
     "execution_count": 31,
     "metadata": {},
     "output_type": "execute_result"
    }
   ],
   "source": [
    "ai.email"
   ]
  },
  {
   "cell_type": "code",
   "execution_count": 35,
   "id": "31af0e54-6e9a-49e5-8fe2-d1b807cbd8cf",
   "metadata": {},
   "outputs": [
    {
     "name": "stdout",
     "output_type": "stream",
     "text": [
      "Saurabh Email@gmail.com\n"
     ]
    }
   ],
   "source": [
    "ai.student_details()"
   ]
  },
  {
   "cell_type": "code",
   "execution_count": 53,
   "id": "7f27908d-dd32-4c49-868e-8b069e0000e5",
   "metadata": {},
   "outputs": [],
   "source": [
    "class minorinAI2:\n",
    "    \n",
    "    mob_num=3859495048 ## I can access it with the help of class name\n",
    "    \n",
    "    def __init__(self, name, email):\n",
    "        self.name=name\n",
    "        self.email=email\n",
    "\n",
    "    @classmethod\n",
    "    def change_num(cls, moblie):\n",
    "        minorinAI2.mob_num=moblie\n",
    "\n",
    "    @classmethod \n",
    "    # Decorator is a special type of method or function which decorator the below function such that instead of\n",
    "    # calling the __init__ method we can call the below function.\n",
    "    def details(cls, name, email):\n",
    "        return cls(name, email)\n",
    "\n",
    "    def student_details(self):\n",
    "        print(self.name, self.email, minorinAI2.mob_num)"
   ]
  },
  {
   "cell_type": "code",
   "execution_count": 86,
   "id": "fc895904-5014-4bd9-8043-10aab4528252",
   "metadata": {},
   "outputs": [],
   "source": [
    "ai1=minorinAI2.details('Deepak', 'deepak@gmail.com')"
   ]
  },
  {
   "cell_type": "code",
   "execution_count": 88,
   "id": "b5be19e0-8cae-4d31-b4da-a9799d0fa033",
   "metadata": {},
   "outputs": [
    {
     "name": "stdout",
     "output_type": "stream",
     "text": [
      "Deepak deepak@gmail.com 857399474\n"
     ]
    }
   ],
   "source": [
    "ai1.student_details()"
   ]
  },
  {
   "cell_type": "code",
   "execution_count": 64,
   "id": "05ca9b47-edf0-463f-a7b1-a802c3dce4d9",
   "metadata": {},
   "outputs": [
    {
     "data": {
      "text/plain": [
       "857399474"
      ]
     },
     "execution_count": 64,
     "metadata": {},
     "output_type": "execute_result"
    }
   ],
   "source": [
    "minorinAI2.mob_num"
   ]
  },
  {
   "cell_type": "code",
   "execution_count": 66,
   "id": "9f9132a1-8d83-4dae-b864-05536a9ba6f0",
   "metadata": {},
   "outputs": [],
   "source": [
    "minorinAI2.change_num(857399474)"
   ]
  },
  {
   "cell_type": "code",
   "execution_count": 67,
   "id": "a9f8f53e-6247-40aa-b0d0-b81ae58a8a58",
   "metadata": {},
   "outputs": [
    {
     "data": {
      "text/plain": [
       "857399474"
      ]
     },
     "execution_count": 67,
     "metadata": {},
     "output_type": "execute_result"
    }
   ],
   "source": [
    "minorinAI2.mob_num ## Here we find new moblie number"
   ]
  },
  {
   "cell_type": "code",
   "execution_count": null,
   "id": "a3f047cc-1d4e-4de6-96b3-222f3a1bd844",
   "metadata": {},
   "outputs": [],
   "source": []
  },
  {
   "cell_type": "code",
   "execution_count": 90,
   "id": "97f9eae3-293d-46de-9f98-178944d18479",
   "metadata": {},
   "outputs": [],
   "source": [
    "class minorinAI3:\n",
    "    \n",
    "    mob_num=3859495048 ## I can access it with the help of class name\n",
    "    \n",
    "    def __init__(self, name, email):\n",
    "        self.name=name\n",
    "        self.email=email\n",
    "\n",
    "    @classmethod\n",
    "    def change_num(cls, moblie):\n",
    "        minorinAI2.mob_num=moblie\n",
    "\n",
    "    @classmethod \n",
    "    # Decorator is a special type of method or function which decorator the below function such that instead of\n",
    "    # calling the __init__ method we can call the below function.\n",
    "    def details(cls, name, email):\n",
    "        return cls(name, email)\n",
    "\n",
    "    def student_details(self):\n",
    "        print(self.name, self.email, minorinAI2.mob_num)"
   ]
  },
  {
   "cell_type": "code",
   "execution_count": 92,
   "id": "0255dd03-d12a-46ec-b954-7b79bd58256d",
   "metadata": {},
   "outputs": [],
   "source": [
    "def course_deatails(cls, course_name):\n",
    "    print(\"course name is \", course_name)"
   ]
  },
  {
   "cell_type": "code",
   "execution_count": 96,
   "id": "3e6cda94-6eec-4244-b5a9-d94ea9e7ed4b",
   "metadata": {},
   "outputs": [],
   "source": [
    "minorinAI3.course_deatails=classmethod(course_deatails) ## By the help of build in class method we can add Extranal\n",
    "# function to extranal class."
   ]
  },
  {
   "cell_type": "code",
   "execution_count": 98,
   "id": "c0620e06-4a6f-488d-b0ac-8d40ae3e80ce",
   "metadata": {},
   "outputs": [
    {
     "name": "stdout",
     "output_type": "stream",
     "text": [
      "course name is  Minor in AI\n"
     ]
    }
   ],
   "source": [
    "minorinAI3.course_deatails('Minor in AI')"
   ]
  },
  {
   "cell_type": "code",
   "execution_count": 119,
   "id": "0a9f4b99-f2d8-42a4-b5df-803072ebe787",
   "metadata": {},
   "outputs": [],
   "source": [
    "# we can delete the function \n",
    "\n",
    "del minorinAI3.change_num"
   ]
  },
  {
   "cell_type": "code",
   "execution_count": 121,
   "id": "65f0fe1d-c842-4f26-bb8f-3b591e5cbfc4",
   "metadata": {},
   "outputs": [
    {
     "ename": "AttributeError",
     "evalue": "type object 'minorinAI3' has no attribute 'change'",
     "output_type": "error",
     "traceback": [
      "\u001b[1;31m---------------------------------------------------------------------------\u001b[0m",
      "\u001b[1;31mAttributeError\u001b[0m                            Traceback (most recent call last)",
      "Cell \u001b[1;32mIn[121], line 1\u001b[0m\n\u001b[1;32m----> 1\u001b[0m minorinAI3\u001b[38;5;241m.\u001b[39mchange(\u001b[38;5;241m885949493\u001b[39m)\n",
      "\u001b[1;31mAttributeError\u001b[0m: type object 'minorinAI3' has no attribute 'change'"
     ]
    }
   ],
   "source": [
    "minorinAI3.change(885949493)"
   ]
  },
  {
   "cell_type": "code",
   "execution_count": 129,
   "id": "88b564cb-ef2a-40de-82a8-3626c9064b5f",
   "metadata": {},
   "outputs": [],
   "source": [
    "# we can use build in method to detele the function \n",
    "\n",
    "delattr(minorinAI3, 'student_details')"
   ]
  },
  {
   "cell_type": "code",
   "execution_count": 131,
   "id": "6819771f-52b7-4c0a-9acf-c3d68c77bb4b",
   "metadata": {},
   "outputs": [
    {
     "ename": "AttributeError",
     "evalue": "type object 'minorinAI3' has no attribute 'student_details'",
     "output_type": "error",
     "traceback": [
      "\u001b[1;31m---------------------------------------------------------------------------\u001b[0m",
      "\u001b[1;31mAttributeError\u001b[0m                            Traceback (most recent call last)",
      "Cell \u001b[1;32mIn[131], line 1\u001b[0m\n\u001b[1;32m----> 1\u001b[0m minorinAI3\u001b[38;5;241m.\u001b[39mstudent_details\n",
      "\u001b[1;31mAttributeError\u001b[0m: type object 'minorinAI3' has no attribute 'student_details'"
     ]
    }
   ],
   "source": [
    "minorinAI3.student_details"
   ]
  },
  {
   "cell_type": "code",
   "execution_count": null,
   "id": "71f01c44-97a9-42be-8c76-10e2c51dda66",
   "metadata": {},
   "outputs": [],
   "source": []
  },
  {
   "cell_type": "code",
   "execution_count": null,
   "id": "744796d3-f378-4dcc-8ba4-e1617d673311",
   "metadata": {},
   "outputs": [],
   "source": []
  }
 ],
 "metadata": {
  "kernelspec": {
   "display_name": "Python [conda env:base] *",
   "language": "python",
   "name": "conda-base-py"
  },
  "language_info": {
   "codemirror_mode": {
    "name": "ipython",
    "version": 3
   },
   "file_extension": ".py",
   "mimetype": "text/x-python",
   "name": "python",
   "nbconvert_exporter": "python",
   "pygments_lexer": "ipython3",
   "version": "3.12.7"
  }
 },
 "nbformat": 4,
 "nbformat_minor": 5
}
