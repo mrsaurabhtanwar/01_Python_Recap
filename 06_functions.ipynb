{
 "cells": [
  {
   "cell_type": "code",
   "execution_count": 2,
   "id": "41f621d5-93d0-4ee0-a0bd-5e33656a13cb",
   "metadata": {},
   "outputs": [],
   "source": [
    "def name(): ##  intialization\n",
    "    ##Logic( for any work)\n",
    "    pass ## for later use"
   ]
  },
  {
   "cell_type": "code",
   "execution_count": 4,
   "id": "430e137d-12c2-4b80-a4e9-7e9e3944b883",
   "metadata": {},
   "outputs": [
    {
     "name": "stdout",
     "output_type": "stream",
     "text": [
      "This is my first function\n"
     ]
    }
   ],
   "source": [
    "def test1():\n",
    "    print('This is my first function')\n",
    "test1()"
   ]
  },
  {
   "cell_type": "code",
   "execution_count": 7,
   "id": "b2c6d1e3-e745-4ac7-87e0-0f33669abe0b",
   "metadata": {},
   "outputs": [
    {
     "name": "stdout",
     "output_type": "stream",
     "text": [
      "This is my first function\n"
     ]
    },
    {
     "ename": "TypeError",
     "evalue": "unsupported operand type(s) for +: 'NoneType' and 'str'",
     "output_type": "error",
     "traceback": [
      "\u001b[1;31m---------------------------------------------------------------------------\u001b[0m",
      "\u001b[1;31mTypeError\u001b[0m                                 Traceback (most recent call last)",
      "Cell \u001b[1;32mIn[7], line 1\u001b[0m\n\u001b[1;32m----> 1\u001b[0m \u001b[43mtest1\u001b[49m\u001b[43m(\u001b[49m\u001b[43m)\u001b[49m\u001b[38;5;241;43m+\u001b[39;49m\u001b[38;5;124;43m'\u001b[39;49m\u001b[38;5;124;43msaurabh\u001b[39;49m\u001b[38;5;124;43m'\u001b[39;49m \u001b[38;5;66;03m## Test1() is a function and print always call \"Nonetype\" that's way it's operterion is not vaild\u001b[39;00m\n",
      "\u001b[1;31mTypeError\u001b[0m: unsupported operand type(s) for +: 'NoneType' and 'str'"
     ]
    }
   ],
   "source": [
    "test1()+'saurabh' ## Test1() is a function and print always call \"Nonetype\" that's way it's operterion is not vaild"
   ]
  },
  {
   "cell_type": "code",
   "execution_count": 11,
   "id": "01e16069-f71c-4370-83a9-ebff13b43957",
   "metadata": {},
   "outputs": [
    {
     "data": {
      "text/plain": [
       "str"
      ]
     },
     "execution_count": 11,
     "metadata": {},
     "output_type": "execute_result"
    }
   ],
   "source": [
    "def test2():\n",
    "    return \"This is my second function\"\n",
    "test2()"
   ]
  },
  {
   "cell_type": "code",
   "execution_count": 12,
   "id": "c1f7f1d7-9655-46a8-8283-da80c4e03684",
   "metadata": {},
   "outputs": [
    {
     "data": {
      "text/plain": [
       "str"
      ]
     },
     "execution_count": 12,
     "metadata": {},
     "output_type": "execute_result"
    }
   ],
   "source": [
    "type(test2())"
   ]
  },
  {
   "cell_type": "code",
   "execution_count": 13,
   "id": "a461eba7-af34-43e0-aa8a-56116ded21a2",
   "metadata": {},
   "outputs": [
    {
     "data": {
      "text/plain": [
       "function"
      ]
     },
     "execution_count": 13,
     "metadata": {},
     "output_type": "execute_result"
    }
   ],
   "source": [
    "type(test2)"
   ]
  },
  {
   "cell_type": "code",
   "execution_count": 16,
   "id": "99670199-4b2e-464c-af66-e9aa1263679e",
   "metadata": {},
   "outputs": [
    {
     "data": {
      "text/plain": [
       "'This is my second function saurabh'"
      ]
     },
     "execution_count": 16,
     "metadata": {},
     "output_type": "execute_result"
    }
   ],
   "source": [
    "test2()+\" saurabh\""
   ]
  },
  {
   "cell_type": "code",
   "execution_count": 17,
   "id": "a3481717-615f-4237-b3fc-53e2e1b9d3ae",
   "metadata": {},
   "outputs": [],
   "source": [
    "def test3():\n",
    "    return 'saurabh', 35, 37, 84, 94, 94, [54,484,339]"
   ]
  },
  {
   "cell_type": "code",
   "execution_count": 18,
   "id": "e81c1ab2-4426-425c-9970-7e52b6267554",
   "metadata": {},
   "outputs": [
    {
     "data": {
      "text/plain": [
       "('saurabh', 35, 37, 84, 94, 94, [54, 484, 339])"
      ]
     },
     "execution_count": 18,
     "metadata": {},
     "output_type": "execute_result"
    }
   ],
   "source": [
    "test3() ### type of test3() == tuple"
   ]
  },
  {
   "cell_type": "code",
   "execution_count": 20,
   "id": "87a5a90b-4ff8-4432-80ab-fc4203b27863",
   "metadata": {},
   "outputs": [],
   "source": [
    "a,b,c,d,e,f,g=test3()"
   ]
  },
  {
   "cell_type": "code",
   "execution_count": 21,
   "id": "bd9640f5-243f-403d-ad9e-3902c221a23a",
   "metadata": {},
   "outputs": [
    {
     "data": {
      "text/plain": [
       "'saurabh'"
      ]
     },
     "execution_count": 21,
     "metadata": {},
     "output_type": "execute_result"
    }
   ],
   "source": [
    "a"
   ]
  },
  {
   "cell_type": "code",
   "execution_count": 22,
   "id": "b7a423f6-cbf2-418f-9008-8fc8434ba56e",
   "metadata": {},
   "outputs": [
    {
     "data": {
      "text/plain": [
       "35"
      ]
     },
     "execution_count": 22,
     "metadata": {},
     "output_type": "execute_result"
    }
   ],
   "source": [
    "b"
   ]
  },
  {
   "cell_type": "code",
   "execution_count": 23,
   "id": "2dd3cbb0-3896-4a99-8e22-6b4531f5cc2a",
   "metadata": {},
   "outputs": [
    {
     "data": {
      "text/plain": [
       "84"
      ]
     },
     "execution_count": 23,
     "metadata": {},
     "output_type": "execute_result"
    }
   ],
   "source": [
    "d"
   ]
  },
  {
   "cell_type": "code",
   "execution_count": 24,
   "id": "af04a1c8-56bd-48fe-b8cf-9147039e735b",
   "metadata": {},
   "outputs": [
    {
     "data": {
      "text/plain": [
       "94"
      ]
     },
     "execution_count": 24,
     "metadata": {},
     "output_type": "execute_result"
    }
   ],
   "source": [
    "e"
   ]
  },
  {
   "cell_type": "code",
   "execution_count": 25,
   "id": "af2c4cb0-6360-46a4-abaa-89ec7aaf2581",
   "metadata": {},
   "outputs": [],
   "source": [
    "def test4():\n",
    "    a = 5+6/5\n",
    "    return a"
   ]
  },
  {
   "cell_type": "code",
   "execution_count": 26,
   "id": "eb76a2e7-ce2d-44bb-bb56-e10538e26276",
   "metadata": {},
   "outputs": [
    {
     "data": {
      "text/plain": [
       "6.2"
      ]
     },
     "execution_count": 26,
     "metadata": {},
     "output_type": "execute_result"
    }
   ],
   "source": [
    "test4()"
   ]
  },
  {
   "cell_type": "code",
   "execution_count": 1,
   "id": "56d8c087-60fe-4414-bfce-5bd686ac3cb6",
   "metadata": {},
   "outputs": [],
   "source": [
    "def test5(a,b,c):\n",
    "    d = a+b/c\n",
    "    return d"
   ]
  },
  {
   "cell_type": "code",
   "execution_count": 5,
   "id": "adc9181b-02af-4ec7-878b-5f7d058a7d5d",
   "metadata": {},
   "outputs": [
    {
     "data": {
      "text/plain": [
       "float"
      ]
     },
     "execution_count": 5,
     "metadata": {},
     "output_type": "execute_result"
    }
   ],
   "source": [
    "test5(4,5,6)"
   ]
  },
  {
   "cell_type": "code",
   "execution_count": 4,
   "id": "f38222f5-2003-4912-baac-4e789b2809b5",
   "metadata": {},
   "outputs": [
    {
     "data": {
      "text/plain": [
       "5"
      ]
     },
     "execution_count": 4,
     "metadata": {},
     "output_type": "execute_result"
    }
   ],
   "source": [
    "def test6(a,b):\n",
    "    return a+b\n",
    "test6(2,3)"
   ]
  },
  {
   "cell_type": "code",
   "execution_count": 8,
   "id": "ec6e35d3-f9c2-4d5e-b2da-b8bd28f2977c",
   "metadata": {},
   "outputs": [
    {
     "data": {
      "text/plain": [
       "'saurabh tanwar'"
      ]
     },
     "execution_count": 8,
     "metadata": {},
     "output_type": "execute_result"
    }
   ],
   "source": [
    "test6(\"saurabh\",\" tanwar\")"
   ]
  },
  {
   "cell_type": "code",
   "execution_count": 9,
   "id": "d5df3de1-83c1-4263-a4e4-3d454c1a58e7",
   "metadata": {},
   "outputs": [
    {
     "data": {
      "text/plain": [
       "[1, 2, 3, 4, 5, 6, 7, 8, 9]"
      ]
     },
     "execution_count": 9,
     "metadata": {},
     "output_type": "execute_result"
    }
   ],
   "source": [
    "test6([1,2,3,4,5],[6,7,8,9])"
   ]
  },
  {
   "cell_type": "code",
   "execution_count": 17,
   "id": "fbb35a3a-a216-410c-b4d1-c5df5a0ee2d0",
   "metadata": {},
   "outputs": [],
   "source": [
    "l=[1,238,435.54,4,433,325, 'Saurabh', 'kad', [73,49,494,1039,4847,333],6574]"
   ]
  },
  {
   "cell_type": "code",
   "execution_count": 25,
   "id": "9edcba2b-40bc-479c-8b5f-94207ffbe776",
   "metadata": {},
   "outputs": [
    {
     "data": {
      "text/plain": [
       "[1, 238, 435.54, 4, 433, 325, 6574]"
      ]
     },
     "execution_count": 25,
     "metadata": {},
     "output_type": "execute_result"
    }
   ],
   "source": [
    "def makeList():\n",
    "    lst=[]\n",
    "    for i in l:\n",
    "        if type(i)==int or type(i)==float:\n",
    "            lst.append(i)\n",
    "    return lst\n",
    "makeList()"
   ]
  },
  {
   "cell_type": "code",
   "execution_count": 36,
   "id": "cf0ab953-1ba0-404d-909a-bb6c747c5e14",
   "metadata": {},
   "outputs": [
    {
     "data": {
      "text/plain": [
       "[1, 238, 435.54, 4, 433, 325, 73, 49, 494, 1039, 4847, 333, 6574]"
      ]
     },
     "execution_count": 36,
     "metadata": {},
     "output_type": "execute_result"
    }
   ],
   "source": [
    "def test8(a):\n",
    "    '''this function is for abstact the num data from list'''\n",
    "    l1=[]\n",
    "    for i in a:\n",
    "        if type(i)==list:\n",
    "            for j in i:\n",
    "                l1.append(j)\n",
    "        else:\n",
    "            if type(i)==int or type(i)==float:\n",
    "                l1.append(i)\n",
    "    return l1\n",
    "test8(l)              "
   ]
  },
  {
   "cell_type": "code",
   "execution_count": 1,
   "id": "dfac10ea-153a-4aa7-abe0-cb0e762ef523",
   "metadata": {},
   "outputs": [],
   "source": [
    "def test9(*args):\n",
    "    return args"
   ]
  },
  {
   "cell_type": "code",
   "execution_count": 2,
   "id": "0ce0459f-2ad3-477b-9b14-30188bc6e263",
   "metadata": {},
   "outputs": [
    {
     "data": {
      "text/plain": [
       "()"
      ]
     },
     "execution_count": 2,
     "metadata": {},
     "output_type": "execute_result"
    }
   ],
   "source": [
    "test9()"
   ]
  },
  {
   "cell_type": "code",
   "execution_count": 3,
   "id": "737d232e-5d90-49f6-9154-a23bbd1a0805",
   "metadata": {},
   "outputs": [
    {
     "data": {
      "text/plain": [
       "tuple"
      ]
     },
     "execution_count": 3,
     "metadata": {},
     "output_type": "execute_result"
    }
   ],
   "source": [
    "type(test9())"
   ]
  },
  {
   "cell_type": "code",
   "execution_count": 5,
   "id": "303aa3cf-d6b0-4a3d-882c-55e83711d4f5",
   "metadata": {},
   "outputs": [
    {
     "data": {
      "text/plain": [
       "(2873, 393, 93, 3, 9302, 'fshs', 'hsaj', [939.2, 293, 93])"
      ]
     },
     "execution_count": 5,
     "metadata": {},
     "output_type": "execute_result"
    }
   ],
   "source": [
    "test9(2873,393,93,3,9302,\"fshs\", 'hsaj',[939.2,293,93])"
   ]
  },
  {
   "cell_type": "code",
   "execution_count": 6,
   "id": "0c70444c-4cb9-4388-a6d5-15ed7a888b24",
   "metadata": {},
   "outputs": [],
   "source": [
    "def test10(*args,a):\n",
    "    return args,a"
   ]
  },
  {
   "cell_type": "code",
   "execution_count": 7,
   "id": "011f1753-5184-478c-99a5-1c2d2d3cb429",
   "metadata": {},
   "outputs": [
    {
     "ename": "TypeError",
     "evalue": "test10() missing 1 required keyword-only argument: 'a'",
     "output_type": "error",
     "traceback": [
      "\u001b[1;31m---------------------------------------------------------------------------\u001b[0m",
      "\u001b[1;31mTypeError\u001b[0m                                 Traceback (most recent call last)",
      "Cell \u001b[1;32mIn[7], line 1\u001b[0m\n\u001b[1;32m----> 1\u001b[0m \u001b[43mtest10\u001b[49m\u001b[43m(\u001b[49m\u001b[38;5;241;43m1\u001b[39;49m\u001b[43m,\u001b[49m\u001b[38;5;241;43m2\u001b[39;49m\u001b[43m,\u001b[49m\u001b[38;5;241;43m34\u001b[39;49m\u001b[43m,\u001b[49m\u001b[38;5;241;43m5\u001b[39;49m\u001b[43m)\u001b[49m\n",
      "\u001b[1;31mTypeError\u001b[0m: test10() missing 1 required keyword-only argument: 'a'"
     ]
    }
   ],
   "source": [
    "test10(1,2,34,5) ## PYTHON GET CONFUEES TO THE VALUE OF a"
   ]
  },
  {
   "cell_type": "code",
   "execution_count": 9,
   "id": "8804be81-5993-40d9-a30f-21ae2102769a",
   "metadata": {},
   "outputs": [
    {
     "data": {
      "text/plain": [
       "((2, 3, 4, 5, 6), 46)"
      ]
     },
     "execution_count": 9,
     "metadata": {},
     "output_type": "execute_result"
    }
   ],
   "source": [
    "test10(2,3,4,5,6 , a = 46) ## Now there is no problem "
   ]
  },
  {
   "cell_type": "code",
   "execution_count": 10,
   "id": "4591e457-3034-4716-9485-5c3aadcbfcaa",
   "metadata": {},
   "outputs": [],
   "source": [
    "def test11(a,b, c = 63, d = 76):\n",
    "    return a , b, c ,d "
   ]
  },
  {
   "cell_type": "code",
   "execution_count": 12,
   "id": "8fa618ea-3f83-4e21-9914-afdf39c3ee13",
   "metadata": {},
   "outputs": [
    {
     "ename": "TypeError",
     "evalue": "test11() missing 2 required positional arguments: 'a' and 'b'",
     "output_type": "error",
     "traceback": [
      "\u001b[1;31m---------------------------------------------------------------------------\u001b[0m",
      "\u001b[1;31mTypeError\u001b[0m                                 Traceback (most recent call last)",
      "Cell \u001b[1;32mIn[12], line 1\u001b[0m\n\u001b[1;32m----> 1\u001b[0m \u001b[43mtest11\u001b[49m\u001b[43m(\u001b[49m\u001b[43m)\u001b[49m \u001b[38;5;66;03m## HERE WE HAVE TWO VALUES AND THERE IS NO VALUES OF a & b THAT'S WHY IT'S SHOWING MISSING ERROR\u001b[39;00m\n",
      "\u001b[1;31mTypeError\u001b[0m: test11() missing 2 required positional arguments: 'a' and 'b'"
     ]
    }
   ],
   "source": [
    "test11() ## HERE WE HAVE TWO VALUES AND THERE IS NO VALUES OF a & b THAT'S WHY IT'S SHOWING MISSING ERROR"
   ]
  },
  {
   "cell_type": "code",
   "execution_count": 13,
   "id": "5aac9f6c-13d3-412b-b455-cefbdea8de32",
   "metadata": {},
   "outputs": [
    {
     "data": {
      "text/plain": [
       "(1, 3, 63, 76)"
      ]
     },
     "execution_count": 13,
     "metadata": {},
     "output_type": "execute_result"
    }
   ],
   "source": [
    "test11(1,3)"
   ]
  },
  {
   "cell_type": "code",
   "execution_count": 14,
   "id": "38e79a7a-08de-41ee-9e0e-aef3fe29206c",
   "metadata": {},
   "outputs": [
    {
     "data": {
      "text/plain": [
       "(2, 4, 5, 7)"
      ]
     },
     "execution_count": 14,
     "metadata": {},
     "output_type": "execute_result"
    }
   ],
   "source": [
    "test11(2,4,c=5,d=7) ## WE CAN DO OVER WRITE THE DEFULT VALUES "
   ]
  },
  {
   "cell_type": "code",
   "execution_count": 15,
   "id": "cf491cc6-236f-4f45-8da9-c4682a14b66e",
   "metadata": {},
   "outputs": [],
   "source": [
    "def test12(**kwargs):\n",
    "    return kwargs"
   ]
  },
  {
   "cell_type": "code",
   "execution_count": 17,
   "id": "f781e9db-3790-40de-96eb-106f60d002e0",
   "metadata": {},
   "outputs": [
    {
     "data": {
      "text/plain": [
       "{}"
      ]
     },
     "execution_count": 17,
     "metadata": {},
     "output_type": "execute_result"
    }
   ],
   "source": [
    "test12() ### THIS WILL GIVE A Dic.(**)"
   ]
  },
  {
   "cell_type": "code",
   "execution_count": 18,
   "id": "4c53196d-40dc-4ba9-9501-53df3d952025",
   "metadata": {},
   "outputs": [
    {
     "data": {
      "text/plain": [
       "{'a': 23, 'b': 22, 'c': 'Saurabh tanwar', 'd': [23, 3, 42, 22, 32]}"
      ]
     },
     "execution_count": 18,
     "metadata": {},
     "output_type": "execute_result"
    }
   ],
   "source": [
    "test12(a=23, b=22, c='Saurabh tanwar', d=[23,3,42,22,32])"
   ]
  },
  {
   "cell_type": "code",
   "execution_count": null,
   "id": "60da5d27-e0f6-41ba-949c-46cd814c48ea",
   "metadata": {},
   "outputs": [],
   "source": []
  },
  {
   "cell_type": "code",
   "execution_count": null,
   "id": "500bab22-2f86-4a17-b3bc-854975cd5ce1",
   "metadata": {},
   "outputs": [],
   "source": []
  },
  {
   "cell_type": "markdown",
   "id": "9b71c522-8b1a-4c10-815a-97739f63cd10",
   "metadata": {},
   "source": [
    "## GENERATOR FUNCTION"
   ]
  },
  {
   "cell_type": "code",
   "execution_count": 26,
   "id": "11448a91-5157-400e-b6c8-fb6c56b0acfc",
   "metadata": {},
   "outputs": [
    {
     "name": "stdout",
     "output_type": "stream",
     "text": [
      "None\n"
     ]
    }
   ],
   "source": [
    "## s=[0,1,1,2,3,5,8,13,21...]\n",
    "\n",
    "def FSeries(a,b):\n",
    "    for i in range(0,n+1):\n",
    "        if i<=n:\n",
    "            c=a+b\n",
    "            a=b\n",
    "            b=c\n",
    "        else:\n",
    "            break\n",
    "n=10\n",
    "FSeries(0,1)"
   ]
  },
  {
   "cell_type": "code",
   "execution_count": 27,
   "id": "f9c839cc-220c-4523-86f1-f0870c30cfdf",
   "metadata": {},
   "outputs": [
    {
     "name": "stdout",
     "output_type": "stream",
     "text": [
      "0\n",
      "1\n",
      "1\n",
      "2\n",
      "3\n",
      "5\n",
      "8\n",
      "13\n",
      "21\n",
      "34\n"
     ]
    }
   ],
   "source": [
    "def fibSeries(a, b, n):\n",
    "    for i in range(n):\n",
    "        print(a)\n",
    "        a ,b = b , a+b\n",
    "fibSeries(0,1,10)"
   ]
  },
  {
   "cell_type": "code",
   "execution_count": 31,
   "id": "390f4cf3-858b-4a13-964e-cdf911ae34f7",
   "metadata": {},
   "outputs": [
    {
     "data": {
      "text/plain": [
       "<generator object test_fib at 0x000001F71CB7CF20>"
      ]
     },
     "execution_count": 31,
     "metadata": {},
     "output_type": "execute_result"
    }
   ],
   "source": [
    "def test_fib(a,b,n):\n",
    "    for i in range(n):\n",
    "        yield a ## yield HELPS TO GENERATE THE SERIES \n",
    "        a,b =b, a+b\n",
    "test_fib(0,1,10)    "
   ]
  },
  {
   "cell_type": "code",
   "execution_count": 29,
   "id": "2c7dfcb1-5618-48bc-9867-d2a1fb866217",
   "metadata": {},
   "outputs": [
    {
     "name": "stdout",
     "output_type": "stream",
     "text": [
      "0\n",
      "1\n",
      "1\n",
      "2\n",
      "3\n",
      "5\n",
      "8\n",
      "13\n",
      "21\n",
      "34\n"
     ]
    }
   ],
   "source": [
    "for i in test_fib(0,1,10):\n",
    "    print(i)"
   ]
  },
  {
   "cell_type": "code",
   "execution_count": 30,
   "id": "5013f46c-85b7-4265-a075-3485b69c89f6",
   "metadata": {},
   "outputs": [
    {
     "name": "stdout",
     "output_type": "stream",
     "text": [
      "1\n",
      "2\n",
      "3\n",
      "5\n",
      "8\n",
      "13\n",
      "21\n",
      "34\n",
      "55\n",
      "89\n",
      "144\n",
      "233\n",
      "377\n",
      "610\n",
      "987\n"
     ]
    }
   ],
   "source": [
    "for i in test_fib(1,2,15):\n",
    "    print(i)"
   ]
  },
  {
   "cell_type": "code",
   "execution_count": null,
   "id": "30e3577a-fbbe-4e9c-a67d-47cef63f0a9f",
   "metadata": {},
   "outputs": [],
   "source": []
  },
  {
   "cell_type": "code",
   "execution_count": null,
   "id": "eb8f544a-1357-49ee-aa77-61f38ddb6844",
   "metadata": {},
   "outputs": [],
   "source": []
  },
  {
   "cell_type": "markdown",
   "id": "cd02ceaf-4b0f-44f4-bf7f-fd0ec095eafe",
   "metadata": {},
   "source": [
    "## Lambda Function"
   ]
  },
  {
   "cell_type": "code",
   "execution_count": null,
   "id": "a71010ff-e715-4d67-8cfe-a8de409115ef",
   "metadata": {},
   "outputs": [],
   "source": [
    "n=3\n",
    "p=2"
   ]
  },
  {
   "cell_type": "code",
   "execution_count": 1,
   "id": "987828cf-15b9-4caa-af43-f014c447273a",
   "metadata": {},
   "outputs": [],
   "source": [
    "def test(n,p):\n",
    "    return n**p"
   ]
  },
  {
   "cell_type": "code",
   "execution_count": 2,
   "id": "b05d0764-04a7-48c0-84d6-d50b7417fd56",
   "metadata": {},
   "outputs": [
    {
     "data": {
      "text/plain": [
       "8"
      ]
     },
     "execution_count": 2,
     "metadata": {},
     "output_type": "execute_result"
    }
   ],
   "source": [
    "test(2,3)"
   ]
  },
  {
   "cell_type": "code",
   "execution_count": 4,
   "id": "640e0cf3-f347-48f2-a83c-e932b8d0cbab",
   "metadata": {},
   "outputs": [],
   "source": [
    "a=lambda n,p:n**p"
   ]
  },
  {
   "cell_type": "code",
   "execution_count": 5,
   "id": "0ff5cbc3-e2c1-4c23-8b9a-ac12c02fa4a0",
   "metadata": {},
   "outputs": [
    {
     "data": {
      "text/plain": [
       "8"
      ]
     },
     "execution_count": 5,
     "metadata": {},
     "output_type": "execute_result"
    }
   ],
   "source": [
    "a(2,3)"
   ]
  },
  {
   "cell_type": "code",
   "execution_count": 6,
   "id": "164ab715-acf5-42c2-9ae0-7dbbe75a40cd",
   "metadata": {},
   "outputs": [
    {
     "data": {
      "text/plain": [
       "9"
      ]
     },
     "execution_count": 6,
     "metadata": {},
     "output_type": "execute_result"
    }
   ],
   "source": [
    "a(3,2)"
   ]
  },
  {
   "cell_type": "code",
   "execution_count": 7,
   "id": "685eb7f6-aa9f-4028-8230-217a3882e0f7",
   "metadata": {},
   "outputs": [
    {
     "data": {
      "text/plain": [
       "125"
      ]
     },
     "execution_count": 7,
     "metadata": {},
     "output_type": "execute_result"
    }
   ],
   "source": [
    "a(5,3)"
   ]
  },
  {
   "cell_type": "code",
   "execution_count": 9,
   "id": "6ec2ec8c-7c26-4d87-be88-f8aa92b7ec0e",
   "metadata": {},
   "outputs": [],
   "source": [
    "add=lambda x,y: x+y"
   ]
  },
  {
   "cell_type": "code",
   "execution_count": 11,
   "id": "aa50075e-aba7-4028-a098-3ea795bedc56",
   "metadata": {},
   "outputs": [
    {
     "data": {
      "text/plain": [
       "10"
      ]
     },
     "execution_count": 11,
     "metadata": {},
     "output_type": "execute_result"
    }
   ],
   "source": [
    "add(5,5)"
   ]
  },
  {
   "cell_type": "code",
   "execution_count": 12,
   "id": "7c29a9fa-9218-4612-9779-f26a7fa42d14",
   "metadata": {},
   "outputs": [],
   "source": [
    "c_to_f = lambda c : (9/5)*c+32"
   ]
  },
  {
   "cell_type": "code",
   "execution_count": 13,
   "id": "6acfb5bf-d27e-4136-a53f-953a3e3904a8",
   "metadata": {},
   "outputs": [
    {
     "data": {
      "text/plain": [
       "73.4"
      ]
     },
     "execution_count": 13,
     "metadata": {},
     "output_type": "execute_result"
    }
   ],
   "source": [
    "c_to_f(23)"
   ]
  },
  {
   "cell_type": "code",
   "execution_count": null,
   "id": "0092f68b-0f3b-40e4-9c76-e1f069b70838",
   "metadata": {},
   "outputs": [],
   "source": []
  },
  {
   "cell_type": "code",
   "execution_count": null,
   "id": "f1bf815d-6bba-4c6c-a8d0-c8901dc20eb7",
   "metadata": {},
   "outputs": [],
   "source": []
  },
  {
   "cell_type": "markdown",
   "id": "f2fb83cf-9b0d-461d-ae2d-8230c2df4753",
   "metadata": {},
   "source": [
    "## Map, Reduce & Filter Function"
   ]
  },
  {
   "cell_type": "code",
   "execution_count": null,
   "id": "aea1211a-8d3a-43b4-ab05-fd21bec535b0",
   "metadata": {},
   "outputs": [],
   "source": [
    "## Map"
   ]
  },
  {
   "cell_type": "code",
   "execution_count": 11,
   "id": "79c65f9f-da39-470d-8b5f-73bbc75daaeb",
   "metadata": {},
   "outputs": [],
   "source": [
    "l=[1,2,3,4,5,6,7,8]"
   ]
  },
  {
   "cell_type": "code",
   "execution_count": 12,
   "id": "3292cdf5-7d8e-40ee-95b6-af57a2d58d80",
   "metadata": {},
   "outputs": [
    {
     "data": {
      "text/plain": [
       "[1, 4, 9, 16, 25, 36, 49, 64]"
      ]
     },
     "execution_count": 12,
     "metadata": {},
     "output_type": "execute_result"
    }
   ],
   "source": [
    "def test():\n",
    "    l1=[]\n",
    "    for i in l:\n",
    "        l1.append(i**2)\n",
    "    return l1\n",
    "test()"
   ]
  },
  {
   "cell_type": "code",
   "execution_count": 14,
   "id": "b06937cf-6892-4c1f-b9e9-09e45b76de29",
   "metadata": {},
   "outputs": [],
   "source": [
    "def sq(x):\n",
    "    return x**2"
   ]
  },
  {
   "cell_type": "code",
   "execution_count": 16,
   "id": "492752d4-def3-4463-9def-1eb518dec670",
   "metadata": {},
   "outputs": [
    {
     "data": {
      "text/plain": [
       "[1, 4, 9, 16, 25, 36, 49, 64]"
      ]
     },
     "execution_count": 16,
     "metadata": {},
     "output_type": "execute_result"
    }
   ],
   "source": [
    "list(map(sq, l))\n"
   ]
  },
  {
   "cell_type": "code",
   "execution_count": 17,
   "id": "d6e1ee37-4608-44fe-936e-dc159f044d40",
   "metadata": {},
   "outputs": [
    {
     "data": {
      "text/plain": [
       "[1, 4, 9, 16, 25, 36, 49, 64]"
      ]
     },
     "execution_count": 17,
     "metadata": {},
     "output_type": "execute_result"
    }
   ],
   "source": [
    "list(map(lambda x : x**2 , l))"
   ]
  },
  {
   "cell_type": "code",
   "execution_count": 22,
   "id": "0ff7790a-1b17-4c89-9214-8ae93a20afea",
   "metadata": {},
   "outputs": [],
   "source": [
    "l1=[1,2,3,4,5]\n",
    "l2=[6,7,8,9,10]"
   ]
  },
  {
   "cell_type": "code",
   "execution_count": 27,
   "id": "b63be2af-8e2a-4689-af27-03f3066ff62d",
   "metadata": {},
   "outputs": [
    {
     "data": {
      "text/plain": [
       "[7, 9, 11, 13, 15]"
      ]
     },
     "execution_count": 27,
     "metadata": {},
     "output_type": "execute_result"
    }
   ],
   "source": [
    "list(map(lambda x, y : x+y, l1, l2))\n",
    "    "
   ]
  },
  {
   "cell_type": "code",
   "execution_count": 28,
   "id": "9da68faa-d69a-446d-80d7-da92ef44e147",
   "metadata": {},
   "outputs": [],
   "source": [
    "def add(x,y):\n",
    "    return x+y"
   ]
  },
  {
   "cell_type": "code",
   "execution_count": 29,
   "id": "8b2868b8-d490-48aa-8ac9-bf3483970f1b",
   "metadata": {},
   "outputs": [
    {
     "data": {
      "text/plain": [
       "[7, 9, 11, 13, 15]"
      ]
     },
     "execution_count": 29,
     "metadata": {},
     "output_type": "execute_result"
    }
   ],
   "source": [
    "list(map(add, l1, l2))"
   ]
  },
  {
   "cell_type": "code",
   "execution_count": 30,
   "id": "8bef99c7-7acc-446e-9085-85ee1e9fec7e",
   "metadata": {},
   "outputs": [],
   "source": [
    "s=\"Saurabh Tanwar\""
   ]
  },
  {
   "cell_type": "code",
   "execution_count": 31,
   "id": "0b20d3e7-6703-429e-bafe-35bd8341e49f",
   "metadata": {},
   "outputs": [
    {
     "data": {
      "text/plain": [
       "['S', 'A', 'U', 'R', 'A', 'B', 'H', ' ', 'T', 'A', 'N', 'W', 'A', 'R']"
      ]
     },
     "execution_count": 31,
     "metadata": {},
     "output_type": "execute_result"
    }
   ],
   "source": [
    "list(map(lambda s: s.upper() , s))"
   ]
  },
  {
   "cell_type": "code",
   "execution_count": null,
   "id": "7a88f9f3-cf39-4e47-99db-6c6081f86ceb",
   "metadata": {},
   "outputs": [],
   "source": [
    "## Reduce"
   ]
  },
  {
   "cell_type": "code",
   "execution_count": null,
   "id": "eb6d98e1-5739-467f-b39d-ebc72c5e47d5",
   "metadata": {},
   "outputs": [],
   "source": [
    "l1=[1,2,3,4,5]"
   ]
  },
  {
   "cell_type": "code",
   "execution_count": 39,
   "id": "dfcfc6ee-7222-407d-875a-39866fb5275f",
   "metadata": {},
   "outputs": [],
   "source": [
    "from functools import reduce"
   ]
  },
  {
   "cell_type": "code",
   "execution_count": 40,
   "id": "511d4adb-e5e7-4ac2-ad16-095a61cf99e5",
   "metadata": {},
   "outputs": [
    {
     "data": {
      "text/plain": [
       "15"
      ]
     },
     "execution_count": 40,
     "metadata": {},
     "output_type": "execute_result"
    }
   ],
   "source": [
    "reduce(lambda x,y : x+y , l1)"
   ]
  },
  {
   "cell_type": "code",
   "execution_count": 41,
   "id": "acf41e2a-a086-4cf1-93c5-07e0af4d7654",
   "metadata": {},
   "outputs": [
    {
     "ename": "TypeError",
     "evalue": "<lambda>() missing 1 required positional argument: 'z'",
     "output_type": "error",
     "traceback": [
      "\u001b[1;31m---------------------------------------------------------------------------\u001b[0m",
      "\u001b[1;31mTypeError\u001b[0m                                 Traceback (most recent call last)",
      "Cell \u001b[1;32mIn[41], line 1\u001b[0m\n\u001b[1;32m----> 1\u001b[0m \u001b[43mreduce\u001b[49m\u001b[43m(\u001b[49m\u001b[38;5;28;43;01mlambda\u001b[39;49;00m\u001b[43m \u001b[49m\u001b[43mx\u001b[49m\u001b[43m,\u001b[49m\u001b[43my\u001b[49m\u001b[43m,\u001b[49m\u001b[43mz\u001b[49m\u001b[43m \u001b[49m\u001b[43m:\u001b[49m\u001b[43m \u001b[49m\u001b[43mx\u001b[49m\u001b[38;5;241;43m+\u001b[39;49m\u001b[43my\u001b[49m\u001b[38;5;241;43m+\u001b[39;49m\u001b[43mz\u001b[49m\u001b[43m \u001b[49m\u001b[43m,\u001b[49m\u001b[43m \u001b[49m\u001b[43ml1\u001b[49m\u001b[43m)\u001b[49m\n",
      "\u001b[1;31mTypeError\u001b[0m: <lambda>() missing 1 required positional argument: 'z'"
     ]
    }
   ],
   "source": [
    "reduce(lambda x,y,z : x+y+z , l1) ## 3 variables not allow"
   ]
  },
  {
   "cell_type": "code",
   "execution_count": 42,
   "id": "1e15a687-1c5f-42f5-a119-e6ca8bc5f161",
   "metadata": {},
   "outputs": [
    {
     "ename": "TypeError",
     "evalue": "reduce() of empty iterable with no initial value",
     "output_type": "error",
     "traceback": [
      "\u001b[1;31m---------------------------------------------------------------------------\u001b[0m",
      "\u001b[1;31mTypeError\u001b[0m                                 Traceback (most recent call last)",
      "Cell \u001b[1;32mIn[42], line 1\u001b[0m\n\u001b[1;32m----> 1\u001b[0m \u001b[43mreduce\u001b[49m\u001b[43m(\u001b[49m\u001b[38;5;28;43;01mlambda\u001b[39;49;00m\u001b[43m \u001b[49m\u001b[43mx\u001b[49m\u001b[43m,\u001b[49m\u001b[43my\u001b[49m\u001b[43m \u001b[49m\u001b[43m:\u001b[49m\u001b[43m \u001b[49m\u001b[43mx\u001b[49m\u001b[38;5;241;43m+\u001b[39;49m\u001b[43my\u001b[49m\u001b[43m \u001b[49m\u001b[43m,\u001b[49m\u001b[43m \u001b[49m\u001b[43m[\u001b[49m\u001b[43m]\u001b[49m\u001b[43m)\u001b[49m\n",
      "\u001b[1;31mTypeError\u001b[0m: reduce() of empty iterable with no initial value"
     ]
    }
   ],
   "source": [
    "reduce(lambda x,y : x+y , [])"
   ]
  },
  {
   "cell_type": "code",
   "execution_count": 43,
   "id": "2f61675c-ffe1-4044-ae70-fa87b49f7dc7",
   "metadata": {},
   "outputs": [
    {
     "data": {
      "text/plain": [
       "1"
      ]
     },
     "execution_count": 43,
     "metadata": {},
     "output_type": "execute_result"
    }
   ],
   "source": [
    "reduce(lambda x,y : x+y , [1]) ## Exceptinal case"
   ]
  },
  {
   "cell_type": "code",
   "execution_count": 44,
   "id": "0146a9f8-558a-467e-90c2-b7fec0ec4380",
   "metadata": {},
   "outputs": [
    {
     "data": {
      "text/plain": [
       "5"
      ]
     },
     "execution_count": 44,
     "metadata": {},
     "output_type": "execute_result"
    }
   ],
   "source": [
    "reduce(lambda x,y : x if x>y else y,  l1)"
   ]
  },
  {
   "cell_type": "code",
   "execution_count": 45,
   "id": "39b5b30c-c789-489e-8b5b-4761748a8dbd",
   "metadata": {},
   "outputs": [],
   "source": [
    "## Filter"
   ]
  },
  {
   "cell_type": "code",
   "execution_count": 48,
   "id": "d5aab735-18e5-4387-9011-2b577f6aff34",
   "metadata": {},
   "outputs": [
    {
     "data": {
      "text/plain": [
       "[1, 3, 5]"
      ]
     },
     "execution_count": 48,
     "metadata": {},
     "output_type": "execute_result"
    }
   ],
   "source": [
    "list(filter(lambda x: x%2 !=0, l1))"
   ]
  },
  {
   "cell_type": "code",
   "execution_count": 49,
   "id": "5f979154-0939-4a93-9672-ed0aa771962e",
   "metadata": {},
   "outputs": [
    {
     "data": {
      "text/plain": [
       "[2, 4]"
      ]
     },
     "execution_count": 49,
     "metadata": {},
     "output_type": "execute_result"
    }
   ],
   "source": [
    "list(filter(lambda x: x%2 ==0, l1))"
   ]
  },
  {
   "cell_type": "code",
   "execution_count": 51,
   "id": "388752f1-a716-47a5-92e2-e9567e5a8d06",
   "metadata": {},
   "outputs": [],
   "source": [
    "l1=[7,-7,8,-3,5,8,-4]"
   ]
  },
  {
   "cell_type": "code",
   "execution_count": 52,
   "id": "a27e4cec-d775-4840-822f-8f4dbbc7dc3c",
   "metadata": {},
   "outputs": [
    {
     "data": {
      "text/plain": [
       "[-7, -3, -4]"
      ]
     },
     "execution_count": 52,
     "metadata": {},
     "output_type": "execute_result"
    }
   ],
   "source": [
    "list(filter(lambda x: x<0 , l1))"
   ]
  },
  {
   "cell_type": "code",
   "execution_count": null,
   "id": "8800bfe3-127b-4b26-8177-215ef53ce7d8",
   "metadata": {},
   "outputs": [],
   "source": []
  }
 ],
 "metadata": {
  "kernelspec": {
   "display_name": "Python 3 (ipykernel)",
   "language": "python",
   "name": "python3"
  },
  "language_info": {
   "codemirror_mode": {
    "name": "ipython",
    "version": 3
   },
   "file_extension": ".py",
   "mimetype": "text/x-python",
   "name": "python",
   "nbconvert_exporter": "python",
   "pygments_lexer": "ipython3",
   "version": "3.13.0"
  }
 },
 "nbformat": 4,
 "nbformat_minor": 5
}
